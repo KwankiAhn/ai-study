{
 "cells": [
  {
   "cell_type": "markdown",
   "metadata": {},
   "source": [
    "# Autoencoder study #1\n",
    "<hr style='height:5px'>\n",
    "kwanki.ahn<br>\n",
    "2019/06/01<br>\n",
    "ref : https://keraskorea.github.io/posts/2018-10-23-keras_autoencoder/\n",
    "<hr style='height:5px'>"
   ]
  },
  {
   "cell_type": "code",
   "execution_count": 1,
   "metadata": {},
   "outputs": [
    {
     "name": "stderr",
     "output_type": "stream",
     "text": [
      "Using TensorFlow backend.\n"
     ]
    }
   ],
   "source": [
    "from keras.layers import Input, Dense\n",
    "from keras.models import Model"
   ]
  },
  {
   "cell_type": "markdown",
   "metadata": {},
   "source": [
    "* 인코더와 디코더로 single fully-connected neural layer를 사용합니다"
   ]
  },
  {
   "cell_type": "code",
   "execution_count": 3,
   "metadata": {},
   "outputs": [
    {
     "name": "stdout",
     "output_type": "stream",
     "text": [
      "WARNING:tensorflow:From /usr/local/lib/python2.7/dist-packages/tensorflow/python/framework/op_def_library.py:263: colocate_with (from tensorflow.python.framework.ops) is deprecated and will be removed in a future version.\n",
      "Instructions for updating:\n",
      "Colocations handled automatically by placer.\n"
     ]
    }
   ],
   "source": [
    "# 인코딩될 표현(representation)의 크기\n",
    "encoding_dim = 32 # 32 floats -> 24.5의 압축으로 입력이 784 float라고 가정 \n",
    "\n",
    "# 입력 플레이스홀더\n",
    "input_img = Input(shape=(784,))\n",
    "# \"encoded\"는 입력의 인코딩된 표현\n",
    "encoded = Dense(encoding_dim, activation='relu')(input_img)\n",
    "# \"decoded\"는 입력의 손실있는 재구성 (lossy reconstruction)\n",
    "decoded = Dense(784, activation='sigmoid')(encoded)\n",
    "\n",
    "# 입력을 입력의 재구성으로 매핑할 모델\n",
    "autoencoder = Model(input_img, decoded)"
   ]
  },
  {
   "cell_type": "markdown",
   "metadata": {},
   "source": [
    "* 분리된 인코더 모델도 만듭시다"
   ]
  },
  {
   "cell_type": "code",
   "execution_count": 4,
   "metadata": {},
   "outputs": [],
   "source": [
    "# 이 모델은 입력을 입력의 인코딩된 입력의 표현으로 매핑\n",
    "encoder = Model(input_img, encoded)"
   ]
  },
  {
   "cell_type": "markdown",
   "metadata": {},
   "source": [
    "* 디코더 모델도 만듭니다"
   ]
  },
  {
   "cell_type": "code",
   "execution_count": 5,
   "metadata": {},
   "outputs": [],
   "source": [
    "# 인코딩된 입력을 위한 플레이스 홀더\n",
    "encoded_input = Input(shape=(encoding_dim,))\n",
    "# 오토인코더 모델의 마지막 레이어 얻기\n",
    "decoder_layer = autoencoder.layers[-1]\n",
    "# 디코더 모델 생성\n",
    "decoder = Model(encoded_input, decoder_layer(encoded_input))"
   ]
  },
  {
   "cell_type": "markdown",
   "metadata": {},
   "source": [
    "* 이제 우리의 autoencoder로 MNIST 숫자를 재구성해봅시다.\n",
    "* 먼저, 픽셀 당 바이너리 크로스엔트로피 손실을 사용하도록 모델을 구성하고, optimizer로 Adadelta를 사용합시다"
   ]
  },
  {
   "cell_type": "code",
   "execution_count": 6,
   "metadata": {},
   "outputs": [],
   "source": [
    "autoencoder.compile(optimizer='adadelta', loss='binary_crossentropy')"
   ]
  },
  {
   "cell_type": "code",
   "execution_count": 14,
   "metadata": {},
   "outputs": [
    {
     "name": "stdout",
     "output_type": "stream",
     "text": [
      "_________________________________________________________________\n",
      "Layer (type)                 Output Shape              Param #   \n",
      "=================================================================\n",
      "input_2 (InputLayer)         (None, 784)               0         \n",
      "_________________________________________________________________\n",
      "dense_1 (Dense)              (None, 32)                25120     \n",
      "_________________________________________________________________\n",
      "dense_2 (Dense)              (None, 784)               25872     \n",
      "=================================================================\n",
      "Total params: 50,992\n",
      "Trainable params: 50,992\n",
      "Non-trainable params: 0\n",
      "_________________________________________________________________\n"
     ]
    }
   ],
   "source": [
    "autoencoder.summary()"
   ]
  },
  {
   "cell_type": "markdown",
   "metadata": {},
   "source": [
    "* 입력 데이터를 준비합시다. MNIST 숫자를 사용할 것이고, 라벨은 버리도록 하겠습니다. 입력 이미지를 인코딩하고 디코딩하는 데에만 관심이 있기 때문이죠"
   ]
  },
  {
   "cell_type": "code",
   "execution_count": 7,
   "metadata": {},
   "outputs": [],
   "source": [
    "from keras.datasets import mnist\n",
    "import numpy as np\n",
    "(x_train, _), (x_test, _) = mnist.load_data()\n"
   ]
  },
  {
   "cell_type": "code",
   "execution_count": 8,
   "metadata": {},
   "outputs": [
    {
     "name": "stdout",
     "output_type": "stream",
     "text": [
      "(60000, 784)\n",
      "(10000, 784)\n"
     ]
    }
   ],
   "source": [
    "x_train = x_train.astype('float32') / 255.\n",
    "x_test = x_test.astype('float32') / 255.\n",
    "x_train = x_train.reshape((len(x_train), np.prod(x_train.shape[1:])))\n",
    "x_test = x_test.reshape((len(x_test), np.prod(x_test.shape[1:])))\n",
    "print x_train.shape\n",
    "print x_test.shape\n"
   ]
  },
  {
   "cell_type": "markdown",
   "metadata": {},
   "source": [
    "* 이제 autoencoder를 50 epoch 동안 훈련시키죠"
   ]
  },
  {
   "cell_type": "code",
   "execution_count": 9,
   "metadata": {},
   "outputs": [
    {
     "name": "stdout",
     "output_type": "stream",
     "text": [
      "WARNING:tensorflow:From /usr/local/lib/python2.7/dist-packages/tensorflow/python/ops/math_ops.py:3066: to_int32 (from tensorflow.python.ops.math_ops) is deprecated and will be removed in a future version.\n",
      "Instructions for updating:\n",
      "Use tf.cast instead.\n",
      "Train on 60000 samples, validate on 10000 samples\n",
      "Epoch 1/50\n",
      "60000/60000 [==============================] - 5s - loss: 0.3808 - val_loss: 0.2730\n",
      "Epoch 2/50\n",
      "60000/60000 [==============================] - 5s - loss: 0.2662 - val_loss: 0.2565\n",
      "Epoch 3/50\n",
      "60000/60000 [==============================] - 5s - loss: 0.2470 - val_loss: 0.2354\n",
      "Epoch 4/50\n",
      "60000/60000 [==============================] - 4s - loss: 0.2270 - val_loss: 0.2167\n",
      "Epoch 5/50\n",
      "60000/60000 [==============================] - 4s - loss: 0.2111 - val_loss: 0.2033\n",
      "Epoch 6/50\n",
      "60000/60000 [==============================] - 4s - loss: 0.1995 - val_loss: 0.1933\n",
      "Epoch 7/50\n",
      "60000/60000 [==============================] - 4s - loss: 0.1904 - val_loss: 0.1852\n",
      "Epoch 8/50\n",
      "60000/60000 [==============================] - 4s - loss: 0.1830 - val_loss: 0.1786\n",
      "Epoch 9/50\n",
      "60000/60000 [==============================] - 4s - loss: 0.1769 - val_loss: 0.1729\n",
      "Epoch 10/50\n",
      "60000/60000 [==============================] - 4s - loss: 0.1718 - val_loss: 0.1682\n",
      "Epoch 11/50\n",
      "60000/60000 [==============================] - 4s - loss: 0.1672 - val_loss: 0.1639\n",
      "Epoch 12/50\n",
      "60000/60000 [==============================] - 4s - loss: 0.1632 - val_loss: 0.1600\n",
      "Epoch 13/50\n",
      "60000/60000 [==============================] - 4s - loss: 0.1594 - val_loss: 0.1566\n",
      "Epoch 14/50\n",
      "60000/60000 [==============================] - 4s - loss: 0.1560 - val_loss: 0.1531\n",
      "Epoch 15/50\n",
      "60000/60000 [==============================] - 4s - loss: 0.1527 - val_loss: 0.1500\n",
      "Epoch 16/50\n",
      "60000/60000 [==============================] - 4s - loss: 0.1498 - val_loss: 0.1473\n",
      "Epoch 17/50\n",
      "60000/60000 [==============================] - 4s - loss: 0.1470 - val_loss: 0.1445\n",
      "Epoch 18/50\n",
      "60000/60000 [==============================] - 4s - loss: 0.1444 - val_loss: 0.1420\n",
      "Epoch 19/50\n",
      "60000/60000 [==============================] - 4s - loss: 0.1420 - val_loss: 0.1397\n",
      "Epoch 20/50\n",
      "60000/60000 [==============================] - 3s - loss: 0.1398 - val_loss: 0.1376\n",
      "Epoch 21/50\n",
      "60000/60000 [==============================] - 4s - loss: 0.1376 - val_loss: 0.1353\n",
      "Epoch 22/50\n",
      "60000/60000 [==============================] - 4s - loss: 0.1355 - val_loss: 0.1332\n",
      "Epoch 23/50\n",
      "60000/60000 [==============================] - 4s - loss: 0.1335 - val_loss: 0.1313\n",
      "Epoch 24/50\n",
      "60000/60000 [==============================] - 4s - loss: 0.1316 - val_loss: 0.1294\n",
      "Epoch 25/50\n",
      "60000/60000 [==============================] - 4s - loss: 0.1297 - val_loss: 0.1275\n",
      "Epoch 26/50\n",
      "60000/60000 [==============================] - 4s - loss: 0.1280 - val_loss: 0.1257\n",
      "Epoch 27/50\n",
      "60000/60000 [==============================] - 4s - loss: 0.1262 - val_loss: 0.1240\n",
      "Epoch 28/50\n",
      "60000/60000 [==============================] - 4s - loss: 0.1246 - val_loss: 0.1224\n",
      "Epoch 29/50\n",
      "60000/60000 [==============================] - 4s - loss: 0.1230 - val_loss: 0.1208\n",
      "Epoch 30/50\n",
      "60000/60000 [==============================] - 4s - loss: 0.1215 - val_loss: 0.1193\n",
      "Epoch 31/50\n",
      "60000/60000 [==============================] - 4s - loss: 0.1200 - val_loss: 0.1179\n",
      "Epoch 32/50\n",
      "60000/60000 [==============================] - 4s - loss: 0.1186 - val_loss: 0.1165\n",
      "Epoch 33/50\n",
      "60000/60000 [==============================] - 4s - loss: 0.1173 - val_loss: 0.1152\n",
      "Epoch 34/50\n",
      "60000/60000 [==============================] - 4s - loss: 0.1161 - val_loss: 0.1140\n",
      "Epoch 35/50\n",
      "60000/60000 [==============================] - 4s - loss: 0.1149 - val_loss: 0.1128\n",
      "Epoch 36/50\n",
      "60000/60000 [==============================] - 4s - loss: 0.1138 - val_loss: 0.1117\n",
      "Epoch 37/50\n",
      "60000/60000 [==============================] - 4s - loss: 0.1128 - val_loss: 0.1107\n",
      "Epoch 38/50\n",
      "60000/60000 [==============================] - 4s - loss: 0.1118 - val_loss: 0.1098\n",
      "Epoch 39/50\n",
      "60000/60000 [==============================] - 4s - loss: 0.1109 - val_loss: 0.1089\n",
      "Epoch 40/50\n",
      "60000/60000 [==============================] - 4s - loss: 0.1100 - val_loss: 0.1080\n",
      "Epoch 41/50\n",
      "60000/60000 [==============================] - 4s - loss: 0.1092 - val_loss: 0.1073\n",
      "Epoch 42/50\n",
      "60000/60000 [==============================] - 4s - loss: 0.1085 - val_loss: 0.1065\n",
      "Epoch 43/50\n",
      "60000/60000 [==============================] - 4s - loss: 0.1077 - val_loss: 0.1058\n",
      "Epoch 44/50\n",
      "60000/60000 [==============================] - 4s - loss: 0.1071 - val_loss: 0.1052\n",
      "Epoch 45/50\n",
      "60000/60000 [==============================] - 4s - loss: 0.1065 - val_loss: 0.1046\n",
      "Epoch 46/50\n",
      "60000/60000 [==============================] - 4s - loss: 0.1059 - val_loss: 0.1040\n",
      "Epoch 47/50\n",
      "60000/60000 [==============================] - 4s - loss: 0.1054 - val_loss: 0.1035\n",
      "Epoch 48/50\n",
      "60000/60000 [==============================] - 4s - loss: 0.1049 - val_loss: 0.1030\n",
      "Epoch 49/50\n",
      "60000/60000 [==============================] - 4s - loss: 0.1044 - val_loss: 0.1026\n",
      "Epoch 50/50\n",
      "60000/60000 [==============================] - 4s - loss: 0.1040 - val_loss: 0.1021\n"
     ]
    },
    {
     "data": {
      "text/plain": [
       "<keras.callbacks.History at 0x7fa1192c43d0>"
      ]
     },
     "execution_count": 9,
     "metadata": {},
     "output_type": "execute_result"
    }
   ],
   "source": [
    "autoencoder.fit(x_train, x_train,\n",
    "                epochs=50,\n",
    "                batch_size=256,\n",
    "                shuffle=True,\n",
    "                validation_data=(x_test, x_test))\n"
   ]
  },
  {
   "cell_type": "markdown",
   "metadata": {},
   "source": [
    "* 50 epoch 이후, autoencoder는 약 0.11의 안정적인 train/test 손실 값에 도달하였습니다. 재구성된 입력과 인코딩된 표현(representation)을 시각화 해봅시다. Matplotlib을 이용하겠습니다"
   ]
  },
  {
   "cell_type": "code",
   "execution_count": 10,
   "metadata": {},
   "outputs": [],
   "source": [
    "# 숫자들을 인코딩 / 디코딩\n",
    "# test set에서 숫자들을 가져왔다는 것을 유의\n",
    "encoded_imgs = encoder.predict(x_test)\n",
    "decoded_imgs = decoder.predict(encoded_imgs)"
   ]
  },
  {
   "cell_type": "markdown",
   "metadata": {},
   "source": [
    "* 아래에 결과가 있습니다. 위의 줄은 원래의 숫자이고 아랫 줄은 재구성된 숫자입니다. 지금 사용한 간단한 접근 방법으로 꽤 많은 비트 손실이 있었다는 것을 알 수 있습니다"
   ]
  },
  {
   "cell_type": "code",
   "execution_count": 11,
   "metadata": {},
   "outputs": [
    {
     "data": {
      "image/png": "[encoded data removed]",
      "text/plain": [
       "<Figure size 1440x288 with 20 Axes>"
      ]
     },
     "metadata": {
      "needs_background": "light"
     },
     "output_type": "display_data"
    }
   ],
   "source": [
    "# Matplotlib 사용\n",
    "import matplotlib.pyplot as plt\n",
    "\n",
    "n = 10  # 몇 개의 숫자를 나타낼 것인지\n",
    "plt.figure(figsize=(20, 4))\n",
    "for i in range(n):\n",
    "    # 원본 데이터\n",
    "    ax = plt.subplot(2, n, i + 1)\n",
    "    plt.imshow(x_test[i].reshape(28, 28))\n",
    "    plt.gray()\n",
    "    ax.get_xaxis().set_visible(False)\n",
    "    ax.get_yaxis().set_visible(False)\n",
    "\n",
    "    # 재구성된 데이터\n",
    "    ax = plt.subplot(2, n, i + 1 + n)\n",
    "    plt.imshow(decoded_imgs[i].reshape(28, 28))\n",
    "    plt.gray()\n",
    "    ax.get_xaxis().set_visible(False)\n",
    "    ax.get_yaxis().set_visible(False)\n",
    "plt.show()\n"
   ]
  },
  {
   "cell_type": "code",
   "execution_count": null,
   "metadata": {},
   "outputs": [],
   "source": []
  }
 ],
 "metadata": {
  "kernelspec": {
   "display_name": "Python 2",
   "language": "python",
   "name": "python2"
  },
  "language_info": {
   "codemirror_mode": {
    "name": "ipython",
    "version": 2
   },
   "file_extension": ".py",
   "mimetype": "text/x-python",
   "name": "python",
   "nbconvert_exporter": "python",
   "pygments_lexer": "ipython2",
   "version": "2.7.13"
  }
 },
 "nbformat": 4,
 "nbformat_minor": 2
}
