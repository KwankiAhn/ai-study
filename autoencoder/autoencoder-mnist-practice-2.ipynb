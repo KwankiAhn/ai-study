{
 "cells": [
  {
   "cell_type": "markdown",
   "metadata": {},
   "source": [
    "# Autoencoder study #2\n",
    "<hr style='height:5px'>\n",
    "kwanki.ahn<br>\n",
    "2019/06/01<br>\n",
    "ref : https://ramhiser.com/post/2018-05-14-autoencoders-with-keras/\n",
    "<hr style='height:5px'>"
   ]
  },
  {
   "cell_type": "code",
   "execution_count": 2,
   "metadata": {},
   "outputs": [],
   "source": [
    "from IPython.display import Image, SVG\n",
    "import matplotlib.pyplot as plt\n",
    "\n",
    "%matplotlib inline\n",
    "\n",
    "import numpy as np\n",
    "import keras\n",
    "from keras.datasets import mnist\n",
    "from keras.models import Model, Sequential\n",
    "from keras.layers import Input, Dense, Conv2D, MaxPooling2D, UpSampling2D, Flatten, Reshape\n",
    "from keras import regularizers"
   ]
  },
  {
   "cell_type": "code",
   "execution_count": 3,
   "metadata": {},
   "outputs": [],
   "source": [
    "# Loads the training and test data sets (ignoring class labels)\n",
    "(x_train, _), (x_test, _) = mnist.load_data()\n",
    "\n",
    "# Scales the training and test data to range between 0 and 1.\n",
    "max_value = float(x_train.max())\n",
    "x_train = x_train.astype('float32') / max_value\n",
    "x_test = x_test.astype('float32') / max_value"
   ]
  },
  {
   "cell_type": "code",
   "execution_count": 4,
   "metadata": {},
   "outputs": [
    {
     "data": {
      "text/plain": [
       "((60000, 28, 28), (10000, 28, 28))"
      ]
     },
     "execution_count": 4,
     "metadata": {},
     "output_type": "execute_result"
    }
   ],
   "source": [
    "x_train.shape, x_test.shape\n",
    "# ((60000, 28, 28), (10000, 28, 28))"
   ]
  },
  {
   "cell_type": "code",
   "execution_count": 5,
   "metadata": {},
   "outputs": [
    {
     "data": {
      "text/plain": [
       "((60000, 784), (10000, 784))"
      ]
     },
     "execution_count": 5,
     "metadata": {},
     "output_type": "execute_result"
    }
   ],
   "source": [
    "x_train = x_train.reshape((len(x_train), np.prod(x_train.shape[1:])))\n",
    "x_test = x_test.reshape((len(x_test), np.prod(x_test.shape[1:])))\n",
    "\n",
    "(x_train.shape, x_test.shape)\n",
    "# ((60000, 784), (10000, 784))"
   ]
  },
  {
   "cell_type": "code",
   "execution_count": 6,
   "metadata": {},
   "outputs": [
    {
     "name": "stdout",
     "output_type": "stream",
     "text": [
      "Compression factor: 24.5\n",
      "WARNING:tensorflow:From /usr/local/lib/python2.7/dist-packages/tensorflow/python/framework/op_def_library.py:263: colocate_with (from tensorflow.python.framework.ops) is deprecated and will be removed in a future version.\n",
      "Instructions for updating:\n",
      "Colocations handled automatically by placer.\n",
      "_________________________________________________________________\n",
      "Layer (type)                 Output Shape              Param #   \n",
      "=================================================================\n",
      "dense_1 (Dense)              (None, 32)                25120     \n",
      "_________________________________________________________________\n",
      "dense_2 (Dense)              (None, 784)               25872     \n",
      "=================================================================\n",
      "Total params: 50,992\n",
      "Trainable params: 50,992\n",
      "Non-trainable params: 0\n",
      "_________________________________________________________________\n"
     ]
    }
   ],
   "source": [
    "# input dimension = 784\n",
    "input_dim = x_train.shape[1]\n",
    "encoding_dim = 32\n",
    "\n",
    "compression_factor = float(input_dim) / encoding_dim\n",
    "print(\"Compression factor: %s\" % compression_factor)\n",
    "\n",
    "autoencoder = Sequential()\n",
    "autoencoder.add(\n",
    "    Dense(encoding_dim, input_shape=(input_dim,), activation='relu')\n",
    ")\n",
    "autoencoder.add(\n",
    "    Dense(input_dim, activation='sigmoid')\n",
    ")\n",
    "\n",
    "autoencoder.summary()"
   ]
  },
  {
   "cell_type": "code",
   "execution_count": 7,
   "metadata": {},
   "outputs": [
    {
     "name": "stdout",
     "output_type": "stream",
     "text": [
      "_________________________________________________________________\n",
      "Layer (type)                 Output Shape              Param #   \n",
      "=================================================================\n",
      "input_1 (InputLayer)         (None, 784)               0         \n",
      "_________________________________________________________________\n",
      "dense_1 (Dense)              (None, 32)                25120     \n",
      "=================================================================\n",
      "Total params: 25,120\n",
      "Trainable params: 25,120\n",
      "Non-trainable params: 0\n",
      "_________________________________________________________________\n"
     ]
    }
   ],
   "source": [
    "input_img = Input(shape=(input_dim,))\n",
    "encoder_layer = autoencoder.layers[0]\n",
    "encoder = Model(input_img, encoder_layer(input_img))\n",
    "\n",
    "encoder.summary()"
   ]
  },
  {
   "cell_type": "code",
   "execution_count": 8,
   "metadata": {},
   "outputs": [
    {
     "name": "stdout",
     "output_type": "stream",
     "text": [
      "WARNING:tensorflow:From /usr/local/lib/python2.7/dist-packages/tensorflow/python/ops/math_ops.py:3066: to_int32 (from tensorflow.python.ops.math_ops) is deprecated and will be removed in a future version.\n",
      "Instructions for updating:\n",
      "Use tf.cast instead.\n",
      "Train on 60000 samples, validate on 10000 samples\n",
      "Epoch 1/30\n",
      "60000/60000 [==============================] - 3s - loss: 0.2762 - val_loss: 0.1932\n",
      "Epoch 2/30\n",
      "60000/60000 [==============================] - 2s - loss: 0.1733 - val_loss: 0.1553\n",
      "Epoch 3/30\n",
      "60000/60000 [==============================] - 2s - loss: 0.1453 - val_loss: 0.1345\n",
      "Epoch 4/30\n",
      "60000/60000 [==============================] - 2s - loss: 0.1292 - val_loss: 0.1218\n",
      "Epoch 5/30\n",
      "60000/60000 [==============================] - 2s - loss: 0.1109 - val_loss: 0.1069\n",
      "Epoch 7/30\n",
      "60000/60000 [==============================] - 2s - loss: 0.1058 - val_loss: 0.1027\n",
      "Epoch 8/30\n",
      "60000/60000 [==============================] - 2s - loss: 0.1021 - val_loss: 0.0998\n",
      "Epoch 9/30\n",
      "60000/60000 [==============================] - 2s - loss: 0.0995 - val_loss: 0.0973\n",
      "Epoch 10/30\n",
      "60000/60000 [==============================] - 2s - loss: 0.0976 - val_loss: 0.0957\n",
      "Epoch 11/30\n",
      "60000/60000 [==============================] - 2s - loss: 0.0963 - val_loss: 0.0947\n",
      "Epoch 12/30\n",
      "60000/60000 [==============================] - 2s - loss: 0.0955 - val_loss: 0.0941\n",
      "Epoch 13/30\n",
      "60000/60000 [==============================] - 2s - loss: 0.0950 - val_loss: 0.0936\n",
      "Epoch 14/30\n",
      "60000/60000 [==============================] - 3s - loss: 0.0946 - val_loss: 0.0932\n",
      "Epoch 15/30\n",
      "60000/60000 [==============================] - 3s - loss: 0.0943 - val_loss: 0.0930\n",
      "Epoch 16/30\n",
      "60000/60000 [==============================] - 2s - loss: 0.0941 - val_loss: 0.0928\n",
      "Epoch 17/30\n",
      "60000/60000 [==============================] - 3s - loss: 0.0939 - val_loss: 0.0927\n",
      "Epoch 18/30\n",
      "60000/60000 [==============================] - 3s - loss: 0.0938 - val_loss: 0.0926\n",
      "Epoch 19/30\n",
      "60000/60000 [==============================] - 2s - loss: 0.0937 - val_loss: 0.0925\n",
      "Epoch 20/30\n",
      "60000/60000 [==============================] - 2s - loss: 0.0936 - val_loss: 0.0924\n",
      "Epoch 21/30\n",
      "60000/60000 [==============================] - 3s - loss: 0.0935 - val_loss: 0.0923\n",
      "Epoch 22/30\n",
      "60000/60000 [==============================] - 3s - loss: 0.0934 - val_loss: 0.0922\n",
      "Epoch 23/30\n",
      "60000/60000 [==============================] - 3s - loss: 0.0933 - val_loss: 0.0921\n",
      "Epoch 24/30\n",
      "60000/60000 [==============================] - 3s - loss: 0.0933 - val_loss: 0.0921\n",
      "Epoch 25/30\n",
      "60000/60000 [==============================] - 3s - loss: 0.0932 - val_loss: 0.0921\n",
      "Epoch 26/30\n",
      "60000/60000 [==============================] - 3s - loss: 0.0932 - val_loss: 0.0920\n",
      "Epoch 27/30\n",
      "60000/60000 [==============================] - 3s - loss: 0.0931 - val_loss: 0.0919\n",
      "Epoch 29/30\n",
      "60000/60000 [==============================] - 3s - loss: 0.0931 - val_loss: 0.0919\n",
      "Epoch 30/30\n",
      "60000/60000 [==============================] - 3s - loss: 0.0930 - val_loss: 0.0919\n"
     ]
    },
    {
     "data": {
      "text/plain": [
       "<keras.callbacks.History at 0x7fd6a1d80110>"
      ]
     },
     "execution_count": 8,
     "metadata": {},
     "output_type": "execute_result"
    }
   ],
   "source": [
    "autoencoder.compile(optimizer='adam', loss='binary_crossentropy')\n",
    "autoencoder.fit(x_train, x_train,\n",
    "                epochs=30,\n",
    "                batch_size=256,\n",
    "                shuffle=True,\n",
    "                validation_data=(x_test, x_test))"
   ]
  },
  {
   "cell_type": "code",
   "execution_count": 10,
   "metadata": {},
   "outputs": [
    {
     "data": {
      "image/png": "[encoded data removed]",
      "text/plain": [
       "<Figure size 1296x288 with 30 Axes>"
      ]
     },
     "metadata": {
      "needs_background": "light"
     },
     "output_type": "display_data"
    }
   ],
   "source": [
    "num_images = 10\n",
    "np.random.seed(42)\n",
    "random_test_images = np.random.randint(x_test.shape[0], size=num_images)\n",
    "\n",
    "encoded_imgs = encoder.predict(x_test)\n",
    "decoded_imgs = autoencoder.predict(x_test)\n",
    "\n",
    "plt.figure(figsize=(18, 4))\n",
    "\n",
    "for i, image_idx in enumerate(random_test_images):\n",
    "    # plot original image\n",
    "    ax = plt.subplot(3, num_images, i + 1)\n",
    "    plt.imshow(x_test[image_idx].reshape(28, 28))\n",
    "    plt.gray()\n",
    "    ax.get_xaxis().set_visible(False)\n",
    "    ax.get_yaxis().set_visible(False)\n",
    "    \n",
    "    # plot encoded image\n",
    "    ax = plt.subplot(3, num_images, num_images + i + 1)\n",
    "    plt.imshow(encoded_imgs[image_idx].reshape(8, 4))\n",
    "    plt.gray()\n",
    "    ax.get_xaxis().set_visible(False)\n",
    "    ax.get_yaxis().set_visible(False)\n",
    "\n",
    "    # plot reconstructed image\n",
    "    ax = plt.subplot(3, num_images, 2*num_images + i + 1)\n",
    "    plt.imshow(decoded_imgs[image_idx].reshape(28, 28))\n",
    "    plt.gray()\n",
    "    ax.get_xaxis().set_visible(False)\n",
    "    ax.get_yaxis().set_visible(False)\n",
    "plt.show()"
   ]
  },
  {
   "cell_type": "code",
   "execution_count": null,
   "metadata": {},
   "outputs": [],
   "source": []
  },
  {
   "cell_type": "code",
   "execution_count": null,
   "metadata": {},
   "outputs": [],
   "source": []
  }
 ],
 "metadata": {
  "kernelspec": {
   "display_name": "Python 2",
   "language": "python",
   "name": "python2"
  },
  "language_info": {
   "codemirror_mode": {
    "name": "ipython",
    "version": 2
   },
   "file_extension": ".py",
   "mimetype": "text/x-python",
   "name": "python",
   "nbconvert_exporter": "python",
   "pygments_lexer": "ipython2",
   "version": "2.7.13"
  }
 },
 "nbformat": 4,
 "nbformat_minor": 2
}
