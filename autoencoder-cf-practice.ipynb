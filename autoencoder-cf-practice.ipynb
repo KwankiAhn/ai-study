{
 "cells": [
  {
   "cell_type": "markdown",
   "metadata": {},
   "source": [
    "# Autoencoder cf study #1\n",
    "<hr style='height:5px'>\n",
    "kwanki.ahn<br>\n",
    "2019/06/01 skeleton<br>\n",
    "2019/06/03 update model, add metrics<br>\n",
    "ref : \n",
    "<hr style='height:5px'>"
   ]
  },
  {
   "cell_type": "markdown",
   "metadata": {},
   "source": [
    "* Data loader"
   ]
  },
  {
   "cell_type": "code",
   "execution_count": 1,
   "metadata": {},
   "outputs": [],
   "source": [
    "%matplotlib inline\n",
    "\n",
    "import pandas as pd\n",
    "import matplotlib\n",
    "import matplotlib.pyplot as plt\n",
    "import numpy as np\n",
    "# from sklearn.metrics.pairwise import pairwise_distances"
   ]
  },
  {
   "cell_type": "code",
   "execution_count": 2,
   "metadata": {},
   "outputs": [],
   "source": [
    "def get_users_items_ratings_nparray():\n",
    "    # movielens dataset : https://old.datahub.io/dataset/movielens\n",
    "    USERS_PATH = 'dataset/ml-1m/users.dat'\n",
    "    MOVIES_PATH = 'dataset/ml-1m/movies.dat'\n",
    "    RATINGS_PATH = 'dataset/ml-1m/ratings.dat'\n",
    "    \n",
    "    # data processing : https://github.com/khanhnamle1994/movielens/blob/master/Data_Processing.ipynb\n",
    "    # Specify User's Age and Occupation Column\n",
    "    AGES = { 1: \"Under 18\", 18: \"18-24\", 25: \"25-34\", 35: \"35-44\", 45: \"45-49\", 50: \"50-55\", 56: \"56+\" }\n",
    "    OCCUPATIONS = { 0: \"other or not specified\", 1: \"academic/educator\", 2: \"artist\", 3: \"clerical/admin\",\n",
    "                    4: \"college/grad student\", 5: \"customer service\", 6: \"doctor/health care\",\n",
    "                    7: \"executive/managerial\", 8: \"farmer\", 9: \"homemaker\", 10: \"K-12 student\", 11: \"lawyer\",\n",
    "                    12: \"programmer\", 13: \"retired\", 14: \"sales/marketing\", 15: \"scientist\", 16: \"self-employed\",\n",
    "                    17: \"technician/engineer\", 18: \"tradesman/craftsman\", 19: \"unemployed\", 20: \"writer\" }\n",
    "    \n",
    "    # Read the Ratings File\n",
    "    ratings = pd.read_csv(RATINGS_PATH, \n",
    "                        sep='::', \n",
    "                        engine='python', \n",
    "                        encoding='latin-1',\n",
    "                        names=['user_id', 'movie_id', 'rating', 'timestamp'])\n",
    "\n",
    "    # Set max_userid to the maximum user_id in the ratings\n",
    "    max_userid = ratings['user_id'].drop_duplicates().max()\n",
    "    # Set max_movieid to the maximum movie_id in the ratings\n",
    "    max_movieid = ratings['movie_id'].drop_duplicates().max()\n",
    "\n",
    "    # Process ratings dataframe for Keras Deep Learning model\n",
    "    # Add user_emb_id column whose values == user_id - 1\n",
    "    ratings['user_emb_id'] = ratings['user_id'] - 1\n",
    "    # Add movie_emb_id column whose values == movie_id - 1\n",
    "    ratings['movie_emb_id'] = ratings['movie_id'] - 1\n",
    "\n",
    "    print len(ratings), 'ratings loaded'\n",
    "    \n",
    "    # Read the Users File\n",
    "    users = pd.read_csv(USERS_PATH, \n",
    "                        sep='::', \n",
    "                        engine='python', \n",
    "                        encoding='latin-1',\n",
    "                        names=['user_id', 'gender', 'age', 'occupation', 'zipcode'])\n",
    "    users['age_desc'] = users['age'].apply(lambda x: AGES[x])\n",
    "    users['occ_desc'] = users['occupation'].apply(lambda x: OCCUPATIONS[x])\n",
    "    print len(users), 'descriptions of', max_userid, 'users loaded.'\n",
    "    \n",
    "    # Read the Movies File\n",
    "    movies = pd.read_csv(MOVIES_PATH, \n",
    "                        sep='::', \n",
    "                        engine='python', \n",
    "                        encoding='latin-1',\n",
    "                        names=['movie_id', 'title', 'genres'])\n",
    "    print len(movies), 'descriptions of', max_movieid, 'movies loaded.'\n",
    "    \n",
    "    return users, movies, ratings"
   ]
  },
  {
   "cell_type": "code",
   "execution_count": 3,
   "metadata": {},
   "outputs": [],
   "source": [
    "def check_stats(users, movies, ratings):\n",
    "    n_user = len(users)\n",
    "    n_item = len(movies)\n",
    "    n_rating = len(ratings)\n",
    "    n_matrix_size = n_user * n_item\n",
    "    n_sparsity = (1 - (float(n_rating) / float(n_matrix_size))) * 100\n",
    "    print \"users : {}, items : {}, ratings : {}, sparsity : {} %\".format(n_user, n_item, n_rating, n_sparsity)\n",
    "    print \"user_id max : {}, movie_id max : {}\".format(users['user_id'].max(), movies['movie_id'].max())\n",
    "    return n_user, n_item, n_rating, n_matrix_size, n_sparsity"
   ]
  },
  {
   "cell_type": "code",
   "execution_count": 4,
   "metadata": {},
   "outputs": [],
   "source": [
    "def build_dict_of_data(users, movies, ratings):\n",
    "    user2idx = {}\n",
    "    idx2user = {}\n",
    "    movie2idx = {}\n",
    "    idx2movie = {}\n",
    "\n",
    "    for idx, row in users.iterrows():\n",
    "        user2idx[row['user_id']] = idx\n",
    "        idx2user[idx] = row['user_id']\n",
    "    for idx, row in movies.iterrows():\n",
    "        movie2idx[row['movie_id']] = idx\n",
    "        idx2movie[idx] = row['movie_id']\n",
    "    return user2idx, idx2user, movie2idx, idx2movie"
   ]
  },
  {
   "cell_type": "code",
   "execution_count": 5,
   "metadata": {},
   "outputs": [],
   "source": [
    "def build_ratings_matrix(ratings, user2idx, movie2idx):\n",
    "    r_matrix = np.zeros((n_user, n_item), dtype='i')\n",
    "    for index, row in ratings.iterrows():\n",
    "        user_idx = user2idx[row['user_id']]\n",
    "        movie_idx = movie2idx[row['movie_id']]\n",
    "        rating = row['rating']\n",
    "        r_matrix[user_idx][movie_idx] = 1  # rating\n",
    "    return r_matrix"
   ]
  },
  {
   "cell_type": "markdown",
   "metadata": {},
   "source": [
    "* Model"
   ]
  },
  {
   "cell_type": "code",
   "execution_count": 6,
   "metadata": {},
   "outputs": [
    {
     "name": "stderr",
     "output_type": "stream",
     "text": [
      "Using TensorFlow backend.\n"
     ]
    }
   ],
   "source": [
    "from IPython.display import Image, SVG\n",
    "import matplotlib.pyplot as plt\n",
    "\n",
    "%matplotlib inline\n",
    "\n",
    "import numpy as np\n",
    "import keras\n",
    "from keras.datasets import mnist\n",
    "from keras.models import Model, Sequential\n",
    "from keras.layers import Input, Dense, Conv2D, MaxPooling2D, UpSampling2D, Flatten, Reshape\n",
    "from keras import regularizers\n",
    "\n",
    "def build_autoencoder_model(x_train, latent_size = [1000, 50]):\n",
    "    # input dimension = 784\n",
    "    input_dim = x_train.shape[1]\n",
    "    inter_dim = latent_size[0]\n",
    "    rep_dim = latent_size[1]  # latent_size  # 32\n",
    "\n",
    "    compression_factor = float(input_dim) / rep_dim\n",
    "    print(\"Compression factor: %s\" % compression_factor)\n",
    "\n",
    "    autoencoder = Sequential()\n",
    "    autoencoder.add(\n",
    "        Dense(inter_dim, input_shape=(input_dim,), activation='selu')\n",
    "    )\n",
    "    autoencoder.add(\n",
    "        Dense(rep_dim, activation='selu')\n",
    "    )\n",
    "    autoencoder.add(\n",
    "        Dense(inter_dim, activation='selu')\n",
    "    )\n",
    "    autoencoder.add(\n",
    "        Dense(input_dim, activation='sigmoid')\n",
    "    )\n",
    "\n",
    "    autoencoder.summary()\n",
    "    \n",
    "    return autoencoder"
   ]
  },
  {
   "cell_type": "markdown",
   "metadata": {},
   "source": [
    "* Verify"
   ]
  },
  {
   "cell_type": "code",
   "execution_count": 7,
   "metadata": {},
   "outputs": [],
   "source": [
    "def show_history_of_user(ratings, movies, sample_user_id=100, item_number=15):\n",
    "    print \"== get_history_of_user(), user id = {}\".format(sample_user_id)\n",
    "    history_with_id_rating = (ratings.loc[ratings['user_id'] == sample_user_id][['movie_id', 'rating']]\n",
    "            .sort_values([\"rating\"], ascending=[False])[:item_number])\n",
    "    history_with_meta = pd.merge(history_with_id_rating, movies, on='movie_id')\n",
    "    return history_with_meta"
   ]
  },
  {
   "cell_type": "code",
   "execution_count": 8,
   "metadata": {},
   "outputs": [],
   "source": [
    "def get_recommend_of_user_raw(model, r_matrix, user2idx, movies, sample_user_id=100, debug=False):\n",
    "    if debug is True:\n",
    "        print \"== get_recommend_of_user_raw(), user id = {}\".format(sample_user_id)\n",
    "    # reshape 1 by x => x by 1\n",
    "    history_of_user = r_matrix[user2idx[sample_user_id]]\n",
    "    shape_len = history_of_user.shape[0]\n",
    "    history_of_user = history_of_user.reshape((1, shape_len))\n",
    "    score_list = model.predict(history_of_user).flatten()\n",
    "    if debug is True:\n",
    "        print \"  result raw : shape = {}, max = {}, min = {}\".format(score_list.shape, score_list.max(), score_list.min())\n",
    "    return score_list"
   ]
  },
  {
   "cell_type": "code",
   "execution_count": 9,
   "metadata": {},
   "outputs": [],
   "source": [
    "def get_watched_remove(recommends_raw, r_matrix, user2idx, idx2movie, sample_user_id=100):\n",
    "    print \"== get_watched_remove() ==\"\n",
    "    \n",
    "    # remove watched\n",
    "    rating_of_user = r_matrix[user2idx[sample_user_id]]\n",
    "    print rating_of_user.shape\n",
    "\n",
    "    recommends_watch_removed = []\n",
    "    for idx in range(0, len(recommends_raw)):\n",
    "        if rating_of_user[idx] == 0:  # FALSE == if user watched idx program already\n",
    "            recommends_watch_removed.append((idx2movie[idx], recommends_raw[idx]))\n",
    "            \n",
    "    return recommends_watch_removed"
   ]
  },
  {
   "cell_type": "code",
   "execution_count": 10,
   "metadata": {},
   "outputs": [],
   "source": [
    "def show_recommend_of_user(model, r_matrix, user2idx, idx2movie, movies, sample_user_id=100, item_number=15):\n",
    "    print \"== get_recommend_of_user(), user id : {} ==\".format(sample_user_id)\n",
    "    # model's output (raw) : list of scores, length is item count, from index 0 (idx2movie needs)\n",
    "    recommends_raw = get_recommend_of_user_raw(model, r_matrix, user2idx, movies, sample_user_id)\n",
    "    \n",
    "    # remove watched (from rating matrix, allow only if not rating score is 0) -> [(movie id, score)]\n",
    "    remove_watched = get_watched_remove(recommends_raw, r_matrix, user2idx, idx2movie, sample_user_id)\n",
    "    \n",
    "    # select top n\n",
    "    from operator import itemgetter\n",
    "    remove_watched.sort(key=itemgetter(1), reverse=True)\n",
    "    remove_watched = remove_watched[:item_number]\n",
    "\n",
    "    recommend_df = pd.DataFrame(np.array(remove_watched))\n",
    "    recommend_df.columns = ['movie_id', 'inferred_score']\n",
    "    recommend_df = recommend_df.astype({\"movie_id\": int, \"inferred_score\": float})\n",
    "    recommend_with_meta = pd.merge(recommend_df, movies, on='movie_id')\n",
    "    return recommend_with_meta"
   ]
  },
  {
   "cell_type": "markdown",
   "metadata": {},
   "source": [
    "# MAIN"
   ]
  },
  {
   "cell_type": "markdown",
   "metadata": {},
   "source": [
    "## DATA"
   ]
  },
  {
   "cell_type": "code",
   "execution_count": 11,
   "metadata": {},
   "outputs": [
    {
     "name": "stdout",
     "output_type": "stream",
     "text": [
      "1000209 ratings loaded\n",
      "6040 descriptions of 6040 users loaded.\n",
      "3883 descriptions of 3952 movies loaded.\n"
     ]
    }
   ],
   "source": [
    "users, movies, ratings = get_users_items_ratings_nparray()"
   ]
  },
  {
   "cell_type": "code",
   "execution_count": 12,
   "metadata": {},
   "outputs": [
    {
     "data": {
      "text/html": [
       "<div>\n",
       "<style scoped>\n",
       "    .dataframe tbody tr th:only-of-type {\n",
       "        vertical-align: middle;\n",
       "    }\n",
       "\n",
       "    .dataframe tbody tr th {\n",
       "        vertical-align: top;\n",
       "    }\n",
       "\n",
       "    .dataframe thead th {\n",
       "        text-align: right;\n",
       "    }\n",
       "</style>\n",
       "<table border=\"1\" class=\"dataframe\">\n",
       "  <thead>\n",
       "    <tr style=\"text-align: right;\">\n",
       "      <th></th>\n",
       "      <th>user_id</th>\n",
       "      <th>movie_id</th>\n",
       "      <th>rating</th>\n",
       "      <th>timestamp</th>\n",
       "      <th>user_emb_id</th>\n",
       "      <th>movie_emb_id</th>\n",
       "    </tr>\n",
       "  </thead>\n",
       "  <tbody>\n",
       "    <tr>\n",
       "      <th>0</th>\n",
       "      <td>1</td>\n",
       "      <td>1193</td>\n",
       "      <td>5</td>\n",
       "      <td>978300760</td>\n",
       "      <td>0</td>\n",
       "      <td>1192</td>\n",
       "    </tr>\n",
       "    <tr>\n",
       "      <th>1</th>\n",
       "      <td>1</td>\n",
       "      <td>661</td>\n",
       "      <td>3</td>\n",
       "      <td>978302109</td>\n",
       "      <td>0</td>\n",
       "      <td>660</td>\n",
       "    </tr>\n",
       "    <tr>\n",
       "      <th>2</th>\n",
       "      <td>1</td>\n",
       "      <td>914</td>\n",
       "      <td>3</td>\n",
       "      <td>978301968</td>\n",
       "      <td>0</td>\n",
       "      <td>913</td>\n",
       "    </tr>\n",
       "    <tr>\n",
       "      <th>3</th>\n",
       "      <td>1</td>\n",
       "      <td>3408</td>\n",
       "      <td>4</td>\n",
       "      <td>978300275</td>\n",
       "      <td>0</td>\n",
       "      <td>3407</td>\n",
       "    </tr>\n",
       "    <tr>\n",
       "      <th>4</th>\n",
       "      <td>1</td>\n",
       "      <td>2355</td>\n",
       "      <td>5</td>\n",
       "      <td>978824291</td>\n",
       "      <td>0</td>\n",
       "      <td>2354</td>\n",
       "    </tr>\n",
       "    <tr>\n",
       "      <th>5</th>\n",
       "      <td>1</td>\n",
       "      <td>1197</td>\n",
       "      <td>3</td>\n",
       "      <td>978302268</td>\n",
       "      <td>0</td>\n",
       "      <td>1196</td>\n",
       "    </tr>\n",
       "    <tr>\n",
       "      <th>6</th>\n",
       "      <td>1</td>\n",
       "      <td>1287</td>\n",
       "      <td>5</td>\n",
       "      <td>978302039</td>\n",
       "      <td>0</td>\n",
       "      <td>1286</td>\n",
       "    </tr>\n",
       "    <tr>\n",
       "      <th>7</th>\n",
       "      <td>1</td>\n",
       "      <td>2804</td>\n",
       "      <td>5</td>\n",
       "      <td>978300719</td>\n",
       "      <td>0</td>\n",
       "      <td>2803</td>\n",
       "    </tr>\n",
       "    <tr>\n",
       "      <th>8</th>\n",
       "      <td>1</td>\n",
       "      <td>594</td>\n",
       "      <td>4</td>\n",
       "      <td>978302268</td>\n",
       "      <td>0</td>\n",
       "      <td>593</td>\n",
       "    </tr>\n",
       "    <tr>\n",
       "      <th>9</th>\n",
       "      <td>1</td>\n",
       "      <td>919</td>\n",
       "      <td>4</td>\n",
       "      <td>978301368</td>\n",
       "      <td>0</td>\n",
       "      <td>918</td>\n",
       "    </tr>\n",
       "  </tbody>\n",
       "</table>\n",
       "</div>"
      ],
      "text/plain": [
       "   user_id  movie_id  rating  timestamp  user_emb_id  movie_emb_id\n",
       "0        1      1193       5  978300760            0          1192\n",
       "1        1       661       3  978302109            0           660\n",
       "2        1       914       3  978301968            0           913\n",
       "3        1      3408       4  978300275            0          3407\n",
       "4        1      2355       5  978824291            0          2354\n",
       "5        1      1197       3  978302268            0          1196\n",
       "6        1      1287       5  978302039            0          1286\n",
       "7        1      2804       5  978300719            0          2803\n",
       "8        1       594       4  978302268            0           593\n",
       "9        1       919       4  978301368            0           918"
      ]
     },
     "execution_count": 12,
     "metadata": {},
     "output_type": "execute_result"
    }
   ],
   "source": [
    "ratings[:10]"
   ]
  },
  {
   "cell_type": "code",
   "execution_count": 13,
   "metadata": {},
   "outputs": [
    {
     "data": {
      "text/html": [
       "<div>\n",
       "<style scoped>\n",
       "    .dataframe tbody tr th:only-of-type {\n",
       "        vertical-align: middle;\n",
       "    }\n",
       "\n",
       "    .dataframe tbody tr th {\n",
       "        vertical-align: top;\n",
       "    }\n",
       "\n",
       "    .dataframe thead th {\n",
       "        text-align: right;\n",
       "    }\n",
       "</style>\n",
       "<table border=\"1\" class=\"dataframe\">\n",
       "  <thead>\n",
       "    <tr style=\"text-align: right;\">\n",
       "      <th></th>\n",
       "      <th>user_id</th>\n",
       "      <th>gender</th>\n",
       "      <th>age</th>\n",
       "      <th>occupation</th>\n",
       "      <th>zipcode</th>\n",
       "      <th>age_desc</th>\n",
       "      <th>occ_desc</th>\n",
       "    </tr>\n",
       "  </thead>\n",
       "  <tbody>\n",
       "    <tr>\n",
       "      <th>0</th>\n",
       "      <td>1</td>\n",
       "      <td>F</td>\n",
       "      <td>1</td>\n",
       "      <td>10</td>\n",
       "      <td>48067</td>\n",
       "      <td>Under 18</td>\n",
       "      <td>K-12 student</td>\n",
       "    </tr>\n",
       "    <tr>\n",
       "      <th>1</th>\n",
       "      <td>2</td>\n",
       "      <td>M</td>\n",
       "      <td>56</td>\n",
       "      <td>16</td>\n",
       "      <td>70072</td>\n",
       "      <td>56+</td>\n",
       "      <td>self-employed</td>\n",
       "    </tr>\n",
       "    <tr>\n",
       "      <th>2</th>\n",
       "      <td>3</td>\n",
       "      <td>M</td>\n",
       "      <td>25</td>\n",
       "      <td>15</td>\n",
       "      <td>55117</td>\n",
       "      <td>25-34</td>\n",
       "      <td>scientist</td>\n",
       "    </tr>\n",
       "    <tr>\n",
       "      <th>3</th>\n",
       "      <td>4</td>\n",
       "      <td>M</td>\n",
       "      <td>45</td>\n",
       "      <td>7</td>\n",
       "      <td>02460</td>\n",
       "      <td>45-49</td>\n",
       "      <td>executive/managerial</td>\n",
       "    </tr>\n",
       "    <tr>\n",
       "      <th>4</th>\n",
       "      <td>5</td>\n",
       "      <td>M</td>\n",
       "      <td>25</td>\n",
       "      <td>20</td>\n",
       "      <td>55455</td>\n",
       "      <td>25-34</td>\n",
       "      <td>writer</td>\n",
       "    </tr>\n",
       "    <tr>\n",
       "      <th>5</th>\n",
       "      <td>6</td>\n",
       "      <td>F</td>\n",
       "      <td>50</td>\n",
       "      <td>9</td>\n",
       "      <td>55117</td>\n",
       "      <td>50-55</td>\n",
       "      <td>homemaker</td>\n",
       "    </tr>\n",
       "    <tr>\n",
       "      <th>6</th>\n",
       "      <td>7</td>\n",
       "      <td>M</td>\n",
       "      <td>35</td>\n",
       "      <td>1</td>\n",
       "      <td>06810</td>\n",
       "      <td>35-44</td>\n",
       "      <td>academic/educator</td>\n",
       "    </tr>\n",
       "    <tr>\n",
       "      <th>7</th>\n",
       "      <td>8</td>\n",
       "      <td>M</td>\n",
       "      <td>25</td>\n",
       "      <td>12</td>\n",
       "      <td>11413</td>\n",
       "      <td>25-34</td>\n",
       "      <td>programmer</td>\n",
       "    </tr>\n",
       "    <tr>\n",
       "      <th>8</th>\n",
       "      <td>9</td>\n",
       "      <td>M</td>\n",
       "      <td>25</td>\n",
       "      <td>17</td>\n",
       "      <td>61614</td>\n",
       "      <td>25-34</td>\n",
       "      <td>technician/engineer</td>\n",
       "    </tr>\n",
       "    <tr>\n",
       "      <th>9</th>\n",
       "      <td>10</td>\n",
       "      <td>F</td>\n",
       "      <td>35</td>\n",
       "      <td>1</td>\n",
       "      <td>95370</td>\n",
       "      <td>35-44</td>\n",
       "      <td>academic/educator</td>\n",
       "    </tr>\n",
       "  </tbody>\n",
       "</table>\n",
       "</div>"
      ],
      "text/plain": [
       "   user_id gender  age  occupation zipcode  age_desc              occ_desc\n",
       "0        1      F    1          10   48067  Under 18          K-12 student\n",
       "1        2      M   56          16   70072       56+         self-employed\n",
       "2        3      M   25          15   55117     25-34             scientist\n",
       "3        4      M   45           7   02460     45-49  executive/managerial\n",
       "4        5      M   25          20   55455     25-34                writer\n",
       "5        6      F   50           9   55117     50-55             homemaker\n",
       "6        7      M   35           1   06810     35-44     academic/educator\n",
       "7        8      M   25          12   11413     25-34            programmer\n",
       "8        9      M   25          17   61614     25-34   technician/engineer\n",
       "9       10      F   35           1   95370     35-44     academic/educator"
      ]
     },
     "execution_count": 13,
     "metadata": {},
     "output_type": "execute_result"
    }
   ],
   "source": [
    "users[:10]"
   ]
  },
  {
   "cell_type": "code",
   "execution_count": 14,
   "metadata": {},
   "outputs": [
    {
     "data": {
      "text/html": [
       "<div>\n",
       "<style scoped>\n",
       "    .dataframe tbody tr th:only-of-type {\n",
       "        vertical-align: middle;\n",
       "    }\n",
       "\n",
       "    .dataframe tbody tr th {\n",
       "        vertical-align: top;\n",
       "    }\n",
       "\n",
       "    .dataframe thead th {\n",
       "        text-align: right;\n",
       "    }\n",
       "</style>\n",
       "<table border=\"1\" class=\"dataframe\">\n",
       "  <thead>\n",
       "    <tr style=\"text-align: right;\">\n",
       "      <th></th>\n",
       "      <th>movie_id</th>\n",
       "      <th>title</th>\n",
       "      <th>genres</th>\n",
       "    </tr>\n",
       "  </thead>\n",
       "  <tbody>\n",
       "    <tr>\n",
       "      <th>0</th>\n",
       "      <td>1</td>\n",
       "      <td>Toy Story (1995)</td>\n",
       "      <td>Animation|Children's|Comedy</td>\n",
       "    </tr>\n",
       "    <tr>\n",
       "      <th>1</th>\n",
       "      <td>2</td>\n",
       "      <td>Jumanji (1995)</td>\n",
       "      <td>Adventure|Children's|Fantasy</td>\n",
       "    </tr>\n",
       "    <tr>\n",
       "      <th>2</th>\n",
       "      <td>3</td>\n",
       "      <td>Grumpier Old Men (1995)</td>\n",
       "      <td>Comedy|Romance</td>\n",
       "    </tr>\n",
       "    <tr>\n",
       "      <th>3</th>\n",
       "      <td>4</td>\n",
       "      <td>Waiting to Exhale (1995)</td>\n",
       "      <td>Comedy|Drama</td>\n",
       "    </tr>\n",
       "    <tr>\n",
       "      <th>4</th>\n",
       "      <td>5</td>\n",
       "      <td>Father of the Bride Part II (1995)</td>\n",
       "      <td>Comedy</td>\n",
       "    </tr>\n",
       "    <tr>\n",
       "      <th>5</th>\n",
       "      <td>6</td>\n",
       "      <td>Heat (1995)</td>\n",
       "      <td>Action|Crime|Thriller</td>\n",
       "    </tr>\n",
       "    <tr>\n",
       "      <th>6</th>\n",
       "      <td>7</td>\n",
       "      <td>Sabrina (1995)</td>\n",
       "      <td>Comedy|Romance</td>\n",
       "    </tr>\n",
       "    <tr>\n",
       "      <th>7</th>\n",
       "      <td>8</td>\n",
       "      <td>Tom and Huck (1995)</td>\n",
       "      <td>Adventure|Children's</td>\n",
       "    </tr>\n",
       "    <tr>\n",
       "      <th>8</th>\n",
       "      <td>9</td>\n",
       "      <td>Sudden Death (1995)</td>\n",
       "      <td>Action</td>\n",
       "    </tr>\n",
       "    <tr>\n",
       "      <th>9</th>\n",
       "      <td>10</td>\n",
       "      <td>GoldenEye (1995)</td>\n",
       "      <td>Action|Adventure|Thriller</td>\n",
       "    </tr>\n",
       "  </tbody>\n",
       "</table>\n",
       "</div>"
      ],
      "text/plain": [
       "   movie_id                               title                        genres\n",
       "0         1                    Toy Story (1995)   Animation|Children's|Comedy\n",
       "1         2                      Jumanji (1995)  Adventure|Children's|Fantasy\n",
       "2         3             Grumpier Old Men (1995)                Comedy|Romance\n",
       "3         4            Waiting to Exhale (1995)                  Comedy|Drama\n",
       "4         5  Father of the Bride Part II (1995)                        Comedy\n",
       "5         6                         Heat (1995)         Action|Crime|Thriller\n",
       "6         7                      Sabrina (1995)                Comedy|Romance\n",
       "7         8                 Tom and Huck (1995)          Adventure|Children's\n",
       "8         9                 Sudden Death (1995)                        Action\n",
       "9        10                    GoldenEye (1995)     Action|Adventure|Thriller"
      ]
     },
     "execution_count": 14,
     "metadata": {},
     "output_type": "execute_result"
    }
   ],
   "source": [
    "movies[:10]"
   ]
  },
  {
   "cell_type": "code",
   "execution_count": 15,
   "metadata": {},
   "outputs": [
    {
     "name": "stdout",
     "output_type": "stream",
     "text": [
      "users : 6040, items : 3883, ratings : 1000209, sparsity : 95.735320202 %\n",
      "user_id max : 6040, movie_id max : 3952\n"
     ]
    },
    {
     "data": {
      "text/plain": [
       "(6040, 6040, 3883, 3883)"
      ]
     },
     "execution_count": 15,
     "metadata": {},
     "output_type": "execute_result"
    }
   ],
   "source": [
    "n_user, n_item, n_rating, n_matrix_size, n_sparsity = check_stats(users, movies, ratings)\n",
    "user2idx, idx2user, movie2idx, idx2movie = build_dict_of_data(users, movies, ratings)\n",
    "len(user2idx), len(idx2user), len(movie2idx), len(idx2movie)"
   ]
  },
  {
   "cell_type": "code",
   "execution_count": 16,
   "metadata": {},
   "outputs": [],
   "source": [
    "r_matrix = build_ratings_matrix(ratings, user2idx, movie2idx)"
   ]
  },
  {
   "cell_type": "code",
   "execution_count": 17,
   "metadata": {},
   "outputs": [],
   "source": [
    "# UNIT TEST\n",
    "# user_id_test = 3491\n",
    "# history = (ratings.loc[ratings['user_id'] == user_id_test][['movie_id', 'rating']]\n",
    "#             .sort_values([\"rating\"], ascending=[False])[:20])\n",
    "# history\n",
    "# compare history vs ratings raw data file 45's rating scores"
   ]
  },
  {
   "cell_type": "markdown",
   "metadata": {},
   "source": [
    "## MODEL"
   ]
  },
  {
   "cell_type": "code",
   "execution_count": 18,
   "metadata": {},
   "outputs": [
    {
     "name": "stdout",
     "output_type": "stream",
     "text": [
      "Compression factor: 77.66\n",
      "WARNING:tensorflow:From /usr/local/lib/python2.7/dist-packages/tensorflow/python/framework/op_def_library.py:263: colocate_with (from tensorflow.python.framework.ops) is deprecated and will be removed in a future version.\n",
      "Instructions for updating:\n",
      "Colocations handled automatically by placer.\n",
      "_________________________________________________________________\n",
      "Layer (type)                 Output Shape              Param #   \n",
      "=================================================================\n",
      "dense_1 (Dense)              (None, 1000)              3884000   \n",
      "_________________________________________________________________\n",
      "dense_2 (Dense)              (None, 50)                50050     \n",
      "_________________________________________________________________\n",
      "dense_3 (Dense)              (None, 1000)              51000     \n",
      "_________________________________________________________________\n",
      "dense_4 (Dense)              (None, 3883)              3886883   \n",
      "=================================================================\n",
      "Total params: 7,871,933\n",
      "Trainable params: 7,871,933\n",
      "Non-trainable params: 0\n",
      "_________________________________________________________________\n"
     ]
    }
   ],
   "source": [
    "autoencoder = build_autoencoder_model(r_matrix, latent_size = [1000, 50])"
   ]
  },
  {
   "cell_type": "code",
   "execution_count": 19,
   "metadata": {},
   "outputs": [
    {
     "name": "stdout",
     "output_type": "stream",
     "text": [
      "WARNING:tensorflow:From /usr/local/lib/python2.7/dist-packages/tensorflow/python/ops/math_ops.py:3066: to_int32 (from tensorflow.python.ops.math_ops) is deprecated and will be removed in a future version.\n",
      "Instructions for updating:\n",
      "Use tf.cast instead.\n",
      "Epoch 1/40\n",
      "6040/6040 [==============================] - 6s - loss: 0.0668     \n",
      "Epoch 2/40\n",
      "6040/6040 [==============================] - 5s - loss: 0.0367     \n",
      "Epoch 3/40\n",
      "6040/6040 [==============================] - 5s - loss: 0.0359     \n",
      "Epoch 4/40\n",
      "6040/6040 [==============================] - 5s - loss: 0.0351     \n",
      "Epoch 5/40\n",
      "6040/6040 [==============================] - 5s - loss: 0.0345     \n",
      "Epoch 6/40\n",
      "6040/6040 [==============================] - 5s - loss: 0.0341     \n",
      "Epoch 7/40\n",
      "6040/6040 [==============================] - 5s - loss: 0.0336     \n",
      "Epoch 8/40\n",
      "6040/6040 [==============================] - 5s - loss: 0.0333     \n",
      "Epoch 9/40\n",
      "6040/6040 [==============================] - 5s - loss: 0.0328     \n",
      "Epoch 10/40\n",
      "6040/6040 [==============================] - 5s - loss: 0.0322     \n",
      "Epoch 11/40\n",
      "6040/6040 [==============================] - 5s - loss: 0.0315     \n",
      "Epoch 12/40\n",
      "6040/6040 [==============================] - 5s - loss: 0.0301     \n",
      "Epoch 13/40\n",
      "6040/6040 [==============================] - 5s - loss: 0.0270     \n",
      "Epoch 14/40\n",
      "6040/6040 [==============================] - 5s - loss: 0.0252     \n",
      "Epoch 15/40\n",
      "6040/6040 [==============================] - 5s - loss: 0.0244     \n",
      "Epoch 16/40\n",
      "6040/6040 [==============================] - 5s - loss: 0.0239     \n",
      "Epoch 17/40\n",
      "6040/6040 [==============================] - 5s - loss: 0.0236     \n",
      "Epoch 18/40\n",
      "6040/6040 [==============================] - 5s - loss: 0.0234     \n",
      "Epoch 19/40\n",
      "6040/6040 [==============================] - 5s - loss: 0.0232     \n",
      "Epoch 20/40\n",
      "6040/6040 [==============================] - 5s - loss: 0.0231     \n",
      "Epoch 21/40\n",
      "6040/6040 [==============================] - 5s - loss: 0.0229     \n",
      "Epoch 22/40\n",
      "6040/6040 [==============================] - 5s - loss: 0.0228     \n",
      "Epoch 23/40\n",
      "6040/6040 [==============================] - 5s - loss: 0.0227     \n",
      "Epoch 24/40\n",
      "6040/6040 [==============================] - 5s - loss: 0.0226     \n",
      "Epoch 25/40\n",
      "6040/6040 [==============================] - 5s - loss: 0.0224     \n",
      "Epoch 26/40\n",
      "6040/6040 [==============================] - 5s - loss: 0.0223     \n",
      "Epoch 27/40\n",
      "6040/6040 [==============================] - 5s - loss: 0.0222     \n",
      "Epoch 28/40\n",
      "6040/6040 [==============================] - 5s - loss: 0.0220     \n",
      "Epoch 29/40\n",
      "6040/6040 [==============================] - 5s - loss: 0.0219     \n",
      "Epoch 30/40\n",
      "6040/6040 [==============================] - 5s - loss: 0.0217     \n",
      "Epoch 31/40\n",
      "6040/6040 [==============================] - 5s - loss: 0.0216     \n",
      "Epoch 32/40\n",
      "6040/6040 [==============================] - 5s - loss: 0.0214     \n",
      "Epoch 33/40\n",
      "6040/6040 [==============================] - 5s - loss: 0.0213     \n",
      "Epoch 34/40\n",
      "6040/6040 [==============================] - 5s - loss: 0.0211     \n",
      "Epoch 35/40\n",
      "6040/6040 [==============================] - 5s - loss: 0.0210     \n",
      "Epoch 36/40\n",
      "6040/6040 [==============================] - 5s - loss: 0.0208     \n",
      "Epoch 37/40\n",
      "6040/6040 [==============================] - 5s - loss: 0.0206     \n",
      "Epoch 38/40\n",
      "6040/6040 [==============================] - 5s - loss: 0.0204     \n",
      "Epoch 39/40\n",
      "6040/6040 [==============================] - 5s - loss: 0.0203     \n",
      "Epoch 40/40\n",
      "6040/6040 [==============================] - 5s - loss: 0.0201     \n"
     ]
    },
    {
     "data": {
      "text/plain": [
       "<keras.callbacks.History at 0x7f610b08a210>"
      ]
     },
     "execution_count": 19,
     "metadata": {},
     "output_type": "execute_result"
    }
   ],
   "source": [
    "autoencoder.compile(optimizer='adam', loss='mean_squared_error')\n",
    "autoencoder.fit(r_matrix, r_matrix,\n",
    "                epochs=40,\n",
    "                batch_size=256,\n",
    "                shuffle=True\n",
    "                # validation_data=(x_test, x_test)\n",
    "               )"
   ]
  },
  {
   "cell_type": "markdown",
   "metadata": {},
   "source": [
    "## VERIFY"
   ]
  },
  {
   "cell_type": "code",
   "execution_count": 20,
   "metadata": {},
   "outputs": [
    {
     "name": "stdout",
     "output_type": "stream",
     "text": [
      "== get_history_of_user(), user id = 45\n"
     ]
    },
    {
     "data": {
      "text/html": [
       "<div>\n",
       "<style scoped>\n",
       "    .dataframe tbody tr th:only-of-type {\n",
       "        vertical-align: middle;\n",
       "    }\n",
       "\n",
       "    .dataframe tbody tr th {\n",
       "        vertical-align: top;\n",
       "    }\n",
       "\n",
       "    .dataframe thead th {\n",
       "        text-align: right;\n",
       "    }\n",
       "</style>\n",
       "<table border=\"1\" class=\"dataframe\">\n",
       "  <thead>\n",
       "    <tr style=\"text-align: right;\">\n",
       "      <th></th>\n",
       "      <th>movie_id</th>\n",
       "      <th>rating</th>\n",
       "      <th>title</th>\n",
       "      <th>genres</th>\n",
       "    </tr>\n",
       "  </thead>\n",
       "  <tbody>\n",
       "    <tr>\n",
       "      <th>0</th>\n",
       "      <td>915</td>\n",
       "      <td>5</td>\n",
       "      <td>Sabrina (1954)</td>\n",
       "      <td>Comedy|Romance</td>\n",
       "    </tr>\n",
       "    <tr>\n",
       "      <th>1</th>\n",
       "      <td>3044</td>\n",
       "      <td>5</td>\n",
       "      <td>Dead Again (1991)</td>\n",
       "      <td>Mystery|Romance|Thriller</td>\n",
       "    </tr>\n",
       "    <tr>\n",
       "      <th>2</th>\n",
       "      <td>969</td>\n",
       "      <td>5</td>\n",
       "      <td>African Queen, The (1951)</td>\n",
       "      <td>Action|Adventure|Romance|War</td>\n",
       "    </tr>\n",
       "    <tr>\n",
       "      <th>3</th>\n",
       "      <td>46</td>\n",
       "      <td>5</td>\n",
       "      <td>How to Make an American Quilt (1995)</td>\n",
       "      <td>Drama|Romance</td>\n",
       "    </tr>\n",
       "    <tr>\n",
       "      <th>4</th>\n",
       "      <td>357</td>\n",
       "      <td>5</td>\n",
       "      <td>Four Weddings and a Funeral (1994)</td>\n",
       "      <td>Comedy|Romance</td>\n",
       "    </tr>\n",
       "    <tr>\n",
       "      <th>5</th>\n",
       "      <td>440</td>\n",
       "      <td>5</td>\n",
       "      <td>Dave (1993)</td>\n",
       "      <td>Comedy|Romance</td>\n",
       "    </tr>\n",
       "    <tr>\n",
       "      <th>6</th>\n",
       "      <td>1835</td>\n",
       "      <td>5</td>\n",
       "      <td>City of Angels (1998)</td>\n",
       "      <td>Romance</td>\n",
       "    </tr>\n",
       "    <tr>\n",
       "      <th>7</th>\n",
       "      <td>2716</td>\n",
       "      <td>5</td>\n",
       "      <td>Ghostbusters (1984)</td>\n",
       "      <td>Comedy|Horror</td>\n",
       "    </tr>\n",
       "    <tr>\n",
       "      <th>8</th>\n",
       "      <td>2779</td>\n",
       "      <td>5</td>\n",
       "      <td>Heaven Can Wait (1978)</td>\n",
       "      <td>Comedy</td>\n",
       "    </tr>\n",
       "    <tr>\n",
       "      <th>9</th>\n",
       "      <td>587</td>\n",
       "      <td>5</td>\n",
       "      <td>Ghost (1990)</td>\n",
       "      <td>Comedy|Romance|Thriller</td>\n",
       "    </tr>\n",
       "    <tr>\n",
       "      <th>10</th>\n",
       "      <td>3052</td>\n",
       "      <td>5</td>\n",
       "      <td>Dogma (1999)</td>\n",
       "      <td>Comedy</td>\n",
       "    </tr>\n",
       "    <tr>\n",
       "      <th>11</th>\n",
       "      <td>2369</td>\n",
       "      <td>5</td>\n",
       "      <td>Desperately Seeking Susan (1985)</td>\n",
       "      <td>Comedy|Romance</td>\n",
       "    </tr>\n",
       "    <tr>\n",
       "      <th>12</th>\n",
       "      <td>2671</td>\n",
       "      <td>5</td>\n",
       "      <td>Notting Hill (1999)</td>\n",
       "      <td>Comedy|Romance</td>\n",
       "    </tr>\n",
       "    <tr>\n",
       "      <th>13</th>\n",
       "      <td>39</td>\n",
       "      <td>5</td>\n",
       "      <td>Clueless (1995)</td>\n",
       "      <td>Comedy|Romance</td>\n",
       "    </tr>\n",
       "    <tr>\n",
       "      <th>14</th>\n",
       "      <td>11</td>\n",
       "      <td>5</td>\n",
       "      <td>American President, The (1995)</td>\n",
       "      <td>Comedy|Drama|Romance</td>\n",
       "    </tr>\n",
       "  </tbody>\n",
       "</table>\n",
       "</div>"
      ],
      "text/plain": [
       "    movie_id  rating                                 title  \\\n",
       "0        915       5                        Sabrina (1954)   \n",
       "1       3044       5                     Dead Again (1991)   \n",
       "2        969       5             African Queen, The (1951)   \n",
       "3         46       5  How to Make an American Quilt (1995)   \n",
       "4        357       5    Four Weddings and a Funeral (1994)   \n",
       "5        440       5                           Dave (1993)   \n",
       "6       1835       5                 City of Angels (1998)   \n",
       "7       2716       5                   Ghostbusters (1984)   \n",
       "8       2779       5                Heaven Can Wait (1978)   \n",
       "9        587       5                          Ghost (1990)   \n",
       "10      3052       5                          Dogma (1999)   \n",
       "11      2369       5      Desperately Seeking Susan (1985)   \n",
       "12      2671       5                   Notting Hill (1999)   \n",
       "13        39       5                       Clueless (1995)   \n",
       "14        11       5        American President, The (1995)   \n",
       "\n",
       "                          genres  \n",
       "0                 Comedy|Romance  \n",
       "1       Mystery|Romance|Thriller  \n",
       "2   Action|Adventure|Romance|War  \n",
       "3                  Drama|Romance  \n",
       "4                 Comedy|Romance  \n",
       "5                 Comedy|Romance  \n",
       "6                        Romance  \n",
       "7                  Comedy|Horror  \n",
       "8                         Comedy  \n",
       "9        Comedy|Romance|Thriller  \n",
       "10                        Comedy  \n",
       "11                Comedy|Romance  \n",
       "12                Comedy|Romance  \n",
       "13                Comedy|Romance  \n",
       "14          Comedy|Drama|Romance  "
      ]
     },
     "execution_count": 20,
     "metadata": {},
     "output_type": "execute_result"
    }
   ],
   "source": [
    "show_history_of_user(ratings, movies, sample_user_id=45)"
   ]
  },
  {
   "cell_type": "code",
   "execution_count": 21,
   "metadata": {},
   "outputs": [
    {
     "name": "stdout",
     "output_type": "stream",
     "text": [
      "== get_recommend_of_user(), user id : 45 ==\n",
      "== get_watched_remove() ==\n",
      "(3883,)\n"
     ]
    },
    {
     "data": {
      "text/html": [
       "<div>\n",
       "<style scoped>\n",
       "    .dataframe tbody tr th:only-of-type {\n",
       "        vertical-align: middle;\n",
       "    }\n",
       "\n",
       "    .dataframe tbody tr th {\n",
       "        vertical-align: top;\n",
       "    }\n",
       "\n",
       "    .dataframe thead th {\n",
       "        text-align: right;\n",
       "    }\n",
       "</style>\n",
       "<table border=\"1\" class=\"dataframe\">\n",
       "  <thead>\n",
       "    <tr style=\"text-align: right;\">\n",
       "      <th></th>\n",
       "      <th>movie_id</th>\n",
       "      <th>inferred_score</th>\n",
       "      <th>title</th>\n",
       "      <th>genres</th>\n",
       "    </tr>\n",
       "  </thead>\n",
       "  <tbody>\n",
       "    <tr>\n",
       "      <th>0</th>\n",
       "      <td>1569</td>\n",
       "      <td>0.999648</td>\n",
       "      <td>My Best Friend's Wedding (1997)</td>\n",
       "      <td>Comedy|Romance</td>\n",
       "    </tr>\n",
       "    <tr>\n",
       "      <th>1</th>\n",
       "      <td>597</td>\n",
       "      <td>0.998837</td>\n",
       "      <td>Pretty Woman (1990)</td>\n",
       "      <td>Comedy|Romance</td>\n",
       "    </tr>\n",
       "    <tr>\n",
       "      <th>2</th>\n",
       "      <td>356</td>\n",
       "      <td>0.994199</td>\n",
       "      <td>Forrest Gump (1994)</td>\n",
       "      <td>Comedy|Romance|War</td>\n",
       "    </tr>\n",
       "    <tr>\n",
       "      <th>3</th>\n",
       "      <td>351</td>\n",
       "      <td>0.972781</td>\n",
       "      <td>Corrina, Corrina (1994)</td>\n",
       "      <td>Comedy|Drama|Romance</td>\n",
       "    </tr>\n",
       "    <tr>\n",
       "      <th>4</th>\n",
       "      <td>342</td>\n",
       "      <td>0.961857</td>\n",
       "      <td>Muriel's Wedding (1994)</td>\n",
       "      <td>Comedy|Romance</td>\n",
       "    </tr>\n",
       "    <tr>\n",
       "      <th>5</th>\n",
       "      <td>1393</td>\n",
       "      <td>0.961111</td>\n",
       "      <td>Jerry Maguire (1996)</td>\n",
       "      <td>Drama|Romance</td>\n",
       "    </tr>\n",
       "    <tr>\n",
       "      <th>6</th>\n",
       "      <td>2145</td>\n",
       "      <td>0.951122</td>\n",
       "      <td>Pretty in Pink (1986)</td>\n",
       "      <td>Comedy|Drama|Romance</td>\n",
       "    </tr>\n",
       "    <tr>\n",
       "      <th>7</th>\n",
       "      <td>236</td>\n",
       "      <td>0.948928</td>\n",
       "      <td>French Kiss (1995)</td>\n",
       "      <td>Comedy|Romance</td>\n",
       "    </tr>\n",
       "    <tr>\n",
       "      <th>8</th>\n",
       "      <td>222</td>\n",
       "      <td>0.906620</td>\n",
       "      <td>Circle of Friends (1995)</td>\n",
       "      <td>Drama|Romance</td>\n",
       "    </tr>\n",
       "    <tr>\n",
       "      <th>9</th>\n",
       "      <td>1777</td>\n",
       "      <td>0.904454</td>\n",
       "      <td>Wedding Singer, The (1998)</td>\n",
       "      <td>Comedy|Romance</td>\n",
       "    </tr>\n",
       "    <tr>\n",
       "      <th>10</th>\n",
       "      <td>898</td>\n",
       "      <td>0.874396</td>\n",
       "      <td>Philadelphia Story, The (1940)</td>\n",
       "      <td>Comedy|Romance</td>\n",
       "    </tr>\n",
       "    <tr>\n",
       "      <th>11</th>\n",
       "      <td>901</td>\n",
       "      <td>0.858629</td>\n",
       "      <td>Funny Face (1957)</td>\n",
       "      <td>Comedy|Musical</td>\n",
       "    </tr>\n",
       "    <tr>\n",
       "      <th>12</th>\n",
       "      <td>1614</td>\n",
       "      <td>0.847136</td>\n",
       "      <td>In &amp; Out (1997)</td>\n",
       "      <td>Comedy</td>\n",
       "    </tr>\n",
       "    <tr>\n",
       "      <th>13</th>\n",
       "      <td>1643</td>\n",
       "      <td>0.834069</td>\n",
       "      <td>Mrs. Brown (Her Majesty, Mrs. Brown) (1997)</td>\n",
       "      <td>Drama|Romance</td>\n",
       "    </tr>\n",
       "    <tr>\n",
       "      <th>14</th>\n",
       "      <td>21</td>\n",
       "      <td>0.790692</td>\n",
       "      <td>Get Shorty (1995)</td>\n",
       "      <td>Action|Comedy|Drama</td>\n",
       "    </tr>\n",
       "  </tbody>\n",
       "</table>\n",
       "</div>"
      ],
      "text/plain": [
       "    movie_id  inferred_score                                        title  \\\n",
       "0       1569        0.999648              My Best Friend's Wedding (1997)   \n",
       "1        597        0.998837                          Pretty Woman (1990)   \n",
       "2        356        0.994199                          Forrest Gump (1994)   \n",
       "3        351        0.972781                      Corrina, Corrina (1994)   \n",
       "4        342        0.961857                      Muriel's Wedding (1994)   \n",
       "5       1393        0.961111                         Jerry Maguire (1996)   \n",
       "6       2145        0.951122                        Pretty in Pink (1986)   \n",
       "7        236        0.948928                           French Kiss (1995)   \n",
       "8        222        0.906620                     Circle of Friends (1995)   \n",
       "9       1777        0.904454                   Wedding Singer, The (1998)   \n",
       "10       898        0.874396               Philadelphia Story, The (1940)   \n",
       "11       901        0.858629                            Funny Face (1957)   \n",
       "12      1614        0.847136                              In & Out (1997)   \n",
       "13      1643        0.834069  Mrs. Brown (Her Majesty, Mrs. Brown) (1997)   \n",
       "14        21        0.790692                            Get Shorty (1995)   \n",
       "\n",
       "                  genres  \n",
       "0         Comedy|Romance  \n",
       "1         Comedy|Romance  \n",
       "2     Comedy|Romance|War  \n",
       "3   Comedy|Drama|Romance  \n",
       "4         Comedy|Romance  \n",
       "5          Drama|Romance  \n",
       "6   Comedy|Drama|Romance  \n",
       "7         Comedy|Romance  \n",
       "8          Drama|Romance  \n",
       "9         Comedy|Romance  \n",
       "10        Comedy|Romance  \n",
       "11        Comedy|Musical  \n",
       "12                Comedy  \n",
       "13         Drama|Romance  \n",
       "14   Action|Comedy|Drama  "
      ]
     },
     "execution_count": 21,
     "metadata": {},
     "output_type": "execute_result"
    }
   ],
   "source": [
    "show_recommend_of_user(autoencoder, r_matrix, user2idx, idx2movie, movies, sample_user_id=45)"
   ]
  },
  {
   "cell_type": "markdown",
   "metadata": {},
   "source": [
    "## METRIC"
   ]
  },
  {
   "cell_type": "markdown",
   "metadata": {},
   "source": [
    "### AUC\n",
    "<hr style='height:5px'>"
   ]
  },
  {
   "cell_type": "code",
   "execution_count": 22,
   "metadata": {},
   "outputs": [],
   "source": [
    "def get_watched_nowatched_id_list(user_id, model, r_matrix, user2idx, idx2movie, debug=False):\n",
    "    watched_l = []\n",
    "    nowatched_l = []\n",
    "    user_history = r_matrix[user2idx[user_id]]  # rating (watched) history\n",
    "    for idx, r, in enumerate(user_history):\n",
    "        if r != 0:\n",
    "            watched_l.append(idx2movie[idx])\n",
    "        else:\n",
    "            nowatched_l.append(idx2movie[idx])\n",
    "    if debug is True:\n",
    "        print \"  watched_l : {}..., len : {}\".format(watched_l[:10], len(watched_l))\n",
    "        print \"  nowatched_l : {}..., len : {}\".format(nowatched_l[:10], len(nowatched_l))\n",
    "    return watched_l, nowatched_l"
   ]
  },
  {
   "cell_type": "code",
   "execution_count": 23,
   "metadata": {},
   "outputs": [],
   "source": [
    "def get_auc_score(user_id, model, r_matrix, user2idx, idx2movie, movies, item_k=100, debug=False):\n",
    "    # refer : http://hyunje.com/data%20analysis/2015/07/27/advanced-analytics-with-spark-ch3-2/\n",
    "    # corrent = number of 본것's predict rating > 안본것's predict rating\n",
    "    # auc = correct / total test number\n",
    "    \n",
    "    if debug is True:\n",
    "        print \"get_auc_score() start, user id : {}\".format(user_id)\n",
    "        \n",
    "    watched_l, nowatched_l = get_watched_nowatched_id_list(user_id, model, r_matrix, user2idx, idx2movie, debug=False)\n",
    "    candidate_len = min(len(watched_l), len(nowatched_l))\n",
    "    if item_k > candidate_len:\n",
    "        item_k = candidate_len\n",
    "    if debug is True:\n",
    "        print \"  candidate_len : {}, item_k : {}\".format(candidate_len, item_k)\n",
    "    \n",
    "    recommends_raw = get_recommend_of_user_raw(model, r_matrix, user2idx, movies, user_id)\n",
    "\n",
    "    import random\n",
    "    random_index_l = random.sample(range(0, candidate_len), item_k) \n",
    "    watched_sample_k = [watched_l[x] for x in random_index_l]\n",
    "    nowatched_sample_k = [nowatched_l[x] for x in random_index_l]\n",
    "    \n",
    "    if debug is True:\n",
    "        print \"  watched_sample_k : {}..., len : {}\".format(watched_sample_k[:10], len(watched_sample_k))\n",
    "        print \"  nowatched_sample_k : {}..., len : {}\".format(nowatched_sample_k[:10], len(nowatched_sample_k))\n",
    "    \n",
    "    correct = 0\n",
    "    for i in range(0, item_k):\n",
    "        if recommends_raw[movie2idx[watched_sample_k[i]]] > recommends_raw[movie2idx[nowatched_sample_k[i]]]:\n",
    "            correct += 1\n",
    "    return float(correct) / float(item_k)"
   ]
  },
  {
   "cell_type": "code",
   "execution_count": 24,
   "metadata": {},
   "outputs": [
    {
     "data": {
      "text/plain": [
       "0.9266666666666666"
      ]
     },
     "execution_count": 24,
     "metadata": {},
     "output_type": "execute_result"
    }
   ],
   "source": [
    "# AUC SCORE of single person\n",
    "get_auc_score(45, autoencoder, r_matrix, user2idx, idx2movie, movies, item_k=150)"
   ]
  },
  {
   "cell_type": "code",
   "execution_count": 25,
   "metadata": {},
   "outputs": [],
   "source": [
    "# AUC SCORE of 500 person average\n",
    "k = 500\n",
    "import random\n",
    "r_user_idx = random.sample(range(0, len(users)), k)\n",
    "\n",
    "auc_agg = []\n",
    "for u in r_user_idx:\n",
    "    auc_agg.append(get_auc_score(idx2user[u], autoencoder, r_matrix, user2idx, idx2movie, movies, item_k=150))"
   ]
  },
  {
   "cell_type": "code",
   "execution_count": 148,
   "metadata": {},
   "outputs": [
    {
     "name": "stdout",
     "output_type": "stream",
     "text": [
      "== STATS ==\n",
      "  AUC : 0.929596016878 (avg of 500 users)\n",
      "  max : 1.0, min : 0.7, median : 0.94\n"
     ]
    },
    {
     "data": {
      "image/png": "[encoded data removed]",
      "text/plain": [
       "<Figure size 432x288 with 1 Axes>"
      ]
     },
     "metadata": {
      "needs_background": "light"
     },
     "output_type": "display_data"
    }
   ],
   "source": [
    "print \"== STATS ==\"\n",
    "print \"  AUC : {} (avg of {} users)\".format(np.average(auc_agg), k)\n",
    "print \"  max : {}, min : {}, median : {}\".format(max(auc_agg), min(auc_agg), np.median(auc_agg))\n",
    "plt.hist(auc_agg, bins='auto')  # arguments are passed to np.histogram\n",
    "plt.title(\"Histogram of auc\")\n",
    "plt.show()"
   ]
  },
  {
   "cell_type": "markdown",
   "metadata": {},
   "source": [
    "### TOP K ACCURACY\n",
    "<hr style='height:5px'>"
   ]
  },
  {
   "cell_type": "code",
   "execution_count": 27,
   "metadata": {},
   "outputs": [],
   "source": [
    "def check_watched_item_score_is_in(recommends_raw, watched_l, nowatched_l, candidate_len, idx2movie, k, base, debug=False):\n",
    "    import random\n",
    "    random_index_l = random.sample(range(0, candidate_len), base) \n",
    "    watched_sample_1 = [watched_l[x] for x in random_index_l][0]\n",
    "    nowatched_sample_99 = [nowatched_l[x] for x in random_index_l][:base-1]\n",
    "    \n",
    "    if debug is True:\n",
    "        print \"  watched_sample_k : {}..., len : {}\".format(watched_sample_k[:10], len(watched_sample_k))\n",
    "        print \"  nowatched_sample_k : {}..., len : {}\".format(nowatched_sample_k[:10], len(nowatched_sample_k))\n",
    "    \n",
    "    # sorted nowatch 99 score\n",
    "    scores = []\n",
    "    for i in nowatched_sample_99:\n",
    "        scores.append(recommends_raw[movie2idx[i]])\n",
    "    scores.sort(reverse=True)\n",
    "    \n",
    "    # watched 1 score\n",
    "    score_watched = recommends_raw[movie2idx[watched_sample_1]]\n",
    "    if score_watched >= scores[k]:\n",
    "        return True\n",
    "    return False"
   ]
  },
  {
   "cell_type": "code",
   "execution_count": 34,
   "metadata": {},
   "outputs": [],
   "source": [
    "def get_topk_accuracy(user_id, model, r_matrix, user2idx, idx2movie, movies, k = 10, base=100, debug=False):\n",
    "    if debug is True:\n",
    "        print \"get_topk_accuracy() start, user id : {}\".format(user_id)\n",
    "        \n",
    "    watched_l, nowatched_l = get_watched_nowatched_id_list(user_id, model, r_matrix, user2idx, idx2movie, debug=False)\n",
    "    candidate_len = min(len(watched_l), len(nowatched_l))\n",
    "    if base > candidate_len:\n",
    "        base = candidate_len\n",
    "    if debug is True:\n",
    "        print \"  candidate_len : {}, k : {}, base : {}\".format(candidate_len, k, base)\n",
    "        \n",
    "    recommends_raw = get_recommend_of_user_raw(model, r_matrix, user2idx, movies, user_id)\n",
    "    \n",
    "    hit = 0\n",
    "    for i in range(0, 100):  # single person, 100 iteration (-> picking 1 watch, 99 nowatch (1 + 99 = # of base), and check watched is under k-th order)\n",
    "        if check_watched_item_score_is_in(recommends_raw, watched_l, nowatched_l, candidate_len, idx2movie, k, base, debug=False) is True:\n",
    "            hit += 1\n",
    "    return float(hit) / float(100) "
   ]
  },
  {
   "cell_type": "code",
   "execution_count": 41,
   "metadata": {},
   "outputs": [
    {
     "name": "stdout",
     "output_type": "stream",
     "text": [
      "get_topk_accuracy() start, user id : 45\n",
      "  candidate_len : 297, k : 10, base : 100\n"
     ]
    },
    {
     "data": {
      "text/plain": [
       "0.84"
      ]
     },
     "execution_count": 41,
     "metadata": {},
     "output_type": "execute_result"
    }
   ],
   "source": [
    "# TOP K Score of single person\n",
    "get_topk_accuracy(45, autoencoder, r_matrix, user2idx, idx2movie, movies, k=10, base=100, debug=True)"
   ]
  },
  {
   "cell_type": "code",
   "execution_count": 150,
   "metadata": {},
   "outputs": [],
   "source": [
    "# TOP K SCORE of 500 person average\n",
    "k = 500\n",
    "import random\n",
    "r_user_idx = random.sample(range(0, len(users)), k)\n",
    "\n",
    "score_agg = []\n",
    "for u in r_user_idx:\n",
    "    score_agg.append(get_topk_accuracy(idx2user[u], autoencoder, r_matrix, user2idx, idx2movie, movies, k=10, base=100, debug=False))"
   ]
  },
  {
   "cell_type": "code",
   "execution_count": 151,
   "metadata": {},
   "outputs": [
    {
     "name": "stdout",
     "output_type": "stream",
     "text": [
      "== STATS ==\n",
      "  TOP-K ACCURACY : 0.8693 (avg of 500 users)\n",
      "  max : 1.0, min : 0.53, median : 0.88\n"
     ]
    },
    {
     "data": {
      "image/png": "[encoded data removed]",
      "text/plain": [
       "<Figure size 432x288 with 1 Axes>"
      ]
     },
     "metadata": {
      "needs_background": "light"
     },
     "output_type": "display_data"
    }
   ],
   "source": [
    "print \"== STATS ==\"\n",
    "print \"  TOP-K ACCURACY : {} (avg of {} users)\".format(np.average(score_agg), k)\n",
    "print \"  max : {}, min : {}, median : {}\".format(max(score_agg), min(score_agg), np.median(score_agg))\n",
    "plt.hist(score_agg, bins='auto')  # arguments are passed to np.histogram\n",
    "plt.title(\"Histogram of auc\")\n",
    "plt.show()"
   ]
  },
  {
   "cell_type": "markdown",
   "metadata": {},
   "source": [
    "### HIT RATION@K\n",
    "<hr style='height:5px'>"
   ]
  },
  {
   "cell_type": "code",
   "execution_count": 137,
   "metadata": {},
   "outputs": [],
   "source": [
    "def check_howmany_watched_is_recommended(recommends_raw_with_index, watched_l, nowatched_l, candidate_len, idx2movie, base, debug=True):\n",
    "    if debug is True:\n",
    "        print \"check_top_n_includes_watched() start\"\n",
    "        print \"  watched_l : {}\".format(watched_l)\n",
    "        \n",
    "    hit = 0\n",
    "    for index, score in recommends_raw_with_index:\n",
    "        if debug is True:\n",
    "            print \"  checking index : {} (idx2movie -> {}), score : {}\".format(index, idx2movie[index], score)\n",
    "        if idx2movie[index] in watched_l:\n",
    "            if debug is True:\n",
    "                print \"hit!!! \"\n",
    "            hit += 1\n",
    "    return float(hit) / float(len(watched_l))"
   ]
  },
  {
   "cell_type": "code",
   "execution_count": 140,
   "metadata": {},
   "outputs": [],
   "source": [
    "def get_hitratio_n(user_id, model, r_matrix, user2idx, idx2movie, movies, base=100, debug=False):\n",
    "    if debug is True:\n",
    "        print \"get_hitration_n() start, user id : {}\".format(user_id)\n",
    "        \n",
    "    watched_l, nowatched_l = get_watched_nowatched_id_list(user_id, model, r_matrix, user2idx, idx2movie, debug)\n",
    "    candidate_len = min(len(watched_l), len(nowatched_l))\n",
    "    if base > candidate_len:\n",
    "        base = candidate_len\n",
    "    if debug is True:\n",
    "        print \"  candidate_len : {}, base : {}\".format(candidate_len, base)\n",
    "        \n",
    "    recommends_raw = get_recommend_of_user_raw(model, r_matrix, user2idx, movies, user_id)\n",
    "    recommends_raw_with_index = [(idx, score) for idx, score in enumerate(recommends_raw)]\n",
    "    from operator import itemgetter\n",
    "    recommends_raw_with_index.sort(key=itemgetter(1), reverse=True)\n",
    "    \n",
    "    if debug is True:\n",
    "        print \"recommends_raw_with_index[:{}] is : {}\".format(base, recommends_raw_with_index[:base])\n",
    "    \n",
    "    score = check_howmany_watched_is_recommended(recommends_raw_with_index[:base], watched_l, nowatched_l, candidate_len, idx2movie, base, debug)\n",
    "    return score"
   ]
  },
  {
   "cell_type": "code",
   "execution_count": 155,
   "metadata": {},
   "outputs": [
    {
     "data": {
      "text/plain": [
       "0.5791245791245792"
      ]
     },
     "execution_count": 155,
     "metadata": {},
     "output_type": "execute_result"
    }
   ],
   "source": [
    "# HR@K Score of single person\n",
    "HRK = 200\n",
    "get_hitratio_n(45, autoencoder, r_matrix, user2idx, idx2movie, movies, base=HRK, debug=False)"
   ]
  },
  {
   "cell_type": "code",
   "execution_count": 156,
   "metadata": {},
   "outputs": [],
   "source": [
    "# HR@K SCORE of 500 person average\n",
    "k = 500\n",
    "import random\n",
    "r_user_idx = random.sample(range(0, len(users)), k)\n",
    "\n",
    "score_agg = []\n",
    "for u in r_user_idx:\n",
    "    score_agg.append(get_hitratio_n(idx2user[u], autoencoder, r_matrix, user2idx, idx2movie, movies, base=HRK, debug=False))"
   ]
  },
  {
   "cell_type": "code",
   "execution_count": 157,
   "metadata": {},
   "outputs": [
    {
     "name": "stdout",
     "output_type": "stream",
     "text": [
      "== STATS ==\n",
      "  HR@200 ACCURACY : 0.506332050102 (avg of 500 users)\n",
      "  max : 0.830985915493, min : 0.125, median : 0.50974840377\n"
     ]
    },
    {
     "data": {
      "image/png": "[encoded data removed]",
      "text/plain": [
       "<Figure size 432x288 with 1 Axes>"
      ]
     },
     "metadata": {
      "needs_background": "light"
     },
     "output_type": "display_data"
    }
   ],
   "source": [
    "print \"== STATS ==\"\n",
    "print \"  HR@{} ACCURACY : {} (avg of {} users)\".format(HRK, np.average(score_agg), k)\n",
    "print \"  max : {}, min : {}, median : {}\".format(max(score_agg), min(score_agg), np.median(score_agg))\n",
    "plt.hist(score_agg, bins='auto')  # arguments are passed to np.histogram\n",
    "plt.title(\"Histogram of auc\")\n",
    "plt.show()"
   ]
  },
  {
   "cell_type": "code",
   "execution_count": null,
   "metadata": {},
   "outputs": [],
   "source": []
  }
 ],
 "metadata": {
  "kernelspec": {
   "display_name": "Python 2",
   "language": "python",
   "name": "python2"
  },
  "language_info": {
   "codemirror_mode": {
    "name": "ipython",
    "version": 2
   },
   "file_extension": ".py",
   "mimetype": "text/x-python",
   "name": "python",
   "nbconvert_exporter": "python",
   "pygments_lexer": "ipython2",
   "version": "2.7.13"
  }
 },
 "nbformat": 4,
 "nbformat_minor": 2
}
