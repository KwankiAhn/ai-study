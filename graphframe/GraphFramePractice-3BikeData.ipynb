{
 "cells": [
  {
   "cell_type": "code",
   "execution_count": 1,
   "id": "1c01ad71-ae41-4707-9da6-dcc728b7cfb2",
   "metadata": {},
   "outputs": [],
   "source": [
    "# 2021.12.04 / KwnakiAhn / How to setup pyspark on jupyuter\n",
    "\n",
    "# install java (https://m.blog.naver.com/opusk/220985259485)\n",
    "# !sudo apt-get install default-jdk\n",
    "\n",
    "# Install apache spark\n",
    "# !wget https://spark.apache.org/downloads.html \n",
    "# (wget https://archive.apache.org/dist/spark/spark-2.3.0/spark-2.3.0-bin-hadoop2.7.tgz)\n",
    "# (wget https://archive.apache.org/dist/spark/spark-2.4.4/spark-2.4.4-bin-hadoop2.7.tgz) / EMR release 6.0.0\n",
    "# !tar -xzf spark-1.2.0-bin-hadoop2.4.tgz\n",
    "# !sudo mv spark-3.2.0-bin-hadoop3.2 /opt/spark-3.2.0\n",
    "# !sudo ln -s /opt/spark-3.2.0 /opt/spark̀\n",
    "# !export SPARK_HOME=/opt/spark\n",
    "# !export PATH=$SPARK_HOME/bin:$PATH\n",
    "\n",
    "# install pyspark\n",
    "# !pip install pyspark\n",
    "# !pip install findspark"
   ]
  },
  {
   "cell_type": "code",
   "execution_count": 2,
   "id": "fdb7e26c-a28e-45e5-beac-37aa79672bcb",
   "metadata": {},
   "outputs": [
    {
     "name": "stderr",
     "output_type": "stream",
     "text": [
      "WARNING: An illegal reflective access operation has occurred\n",
      "WARNING: Illegal reflective access by org.apache.spark.unsafe.Platform (file:/opt/spark-3.2.0/jars/spark-unsafe_2.12-3.2.0.jar) to constructor java.nio.DirectByteBuffer(long,int)\n",
      "WARNING: Please consider reporting this to the maintainers of org.apache.spark.unsafe.Platform\n",
      "WARNING: Use --illegal-access=warn to enable warnings of further illegal reflective access operations\n",
      "WARNING: All illegal access operations will be denied in a future release\n"
     ]
    },
    {
     "name": "stdout",
     "output_type": "stream",
     "text": [
      ":: loading settings :: url = jar:file:/opt/spark-3.2.0/jars/ivy-2.5.0.jar!/org/apache/ivy/core/settings/ivysettings.xml\n"
     ]
    },
    {
     "name": "stderr",
     "output_type": "stream",
     "text": [
      "Ivy Default Cache set to: /home/jupyter/.ivy2/cache\n",
      "The jars for the packages stored in: /home/jupyter/.ivy2/jars\n",
      "graphframes#graphframes added as a dependency\n",
      ":: resolving dependencies :: org.apache.spark#spark-submit-parent-47849a78-1f6c-4e49-a1c0-a1bba12febdd;1.0\n",
      "\tconfs: [default]\n",
      "\tfound graphframes#graphframes;0.8.2-spark3.2-s_2.12 in spark-packages\n",
      "\tfound org.slf4j#slf4j-api;1.7.16 in central\n",
      ":: resolution report :: resolve 231ms :: artifacts dl 8ms\n",
      "\t:: modules in use:\n",
      "\tgraphframes#graphframes;0.8.2-spark3.2-s_2.12 from spark-packages in [default]\n",
      "\torg.slf4j#slf4j-api;1.7.16 from central in [default]\n",
      "\t---------------------------------------------------------------------\n",
      "\t|                  |            modules            ||   artifacts   |\n",
      "\t|       conf       | number| search|dwnlded|evicted|| number|dwnlded|\n",
      "\t---------------------------------------------------------------------\n",
      "\t|      default     |   2   |   0   |   0   |   0   ||   2   |   0   |\n",
      "\t---------------------------------------------------------------------\n",
      ":: retrieving :: org.apache.spark#spark-submit-parent-47849a78-1f6c-4e49-a1c0-a1bba12febdd\n",
      "\tconfs: [default]\n",
      "\t0 artifacts copied, 2 already retrieved (0kB/8ms)\n",
      "22/01/14 13:33:20 WARN NativeCodeLoader: Unable to load native-hadoop library for your platform... using builtin-java classes where applicable\n",
      "Using Spark's default log4j profile: org/apache/spark/log4j-defaults.properties\n",
      "Setting default log level to \"WARN\".\n",
      "To adjust logging level use sc.setLogLevel(newLevel). For SparkR, use setLogLevel(newLevel).\n"
     ]
    }
   ],
   "source": [
    "import os, sys\n",
    "os.environ[\"SPARK_HOME\"] = ['/opt/spark-2.3.0', '/opt/spark-2.4.4', '/opt/spark-3.2.0'][2]\n",
    "sys.path.insert(0, os.environ[\"SPARK_HOME\"])\n",
    "\n",
    "import findspark\n",
    "findspark.init()\n",
    "\n",
    "# 2021.12.04 / KwankiAhn / How to use graphframes in pyspark\n",
    "# 1. config('spark.jars.packages') = pyspark --packages graphframes:graphframes:0.6.0-spark2.3-s_2.11\n",
    "# 2. graphframes <-> spark version sensitive!\n",
    "#  a. https://spark-packages.org/package/graphframes/graphframes\n",
    "from pyspark.sql import SparkSession\n",
    "spark = SparkSession \\\n",
    "    .builder \\\n",
    "    .appName(\"GraphFramePractice1\") \\\n",
    "    .config(\"spark.some.config.option\", \"some-value\") \\\n",
    "    .config('spark.jars.packages', 'graphframes:graphframes:0.8.2-spark3.2-s_2.12')\\\n",
    "    .getOrCreate()"
   ]
  },
  {
   "cell_type": "code",
   "execution_count": 3,
   "id": "32c36f9f-982f-4d0c-87c9-b3b35ab1f8ba",
   "metadata": {},
   "outputs": [],
   "source": [
    "# tutorial guide : https://pizzathief.oopy.io/spark-graphframes-tutorial"
   ]
  },
  {
   "cell_type": "markdown",
   "id": "472254ea-7237-4532-8ce3-394bf027d4f1",
   "metadata": {},
   "source": [
    "# Spark-The-Definitive-Guide 데이터 셋 로드"
   ]
  },
  {
   "cell_type": "code",
   "execution_count": 4,
   "id": "35045f55-e06d-4290-8303-054b15a2d727",
   "metadata": {},
   "outputs": [
    {
     "name": "stdout",
     "output_type": "stream",
     "text": [
      "70\n",
      "+----------+--------------------+---------+-----------+---------+--------+------------+\n",
      "|station_id|                name|      lat|       long|dockcount|landmark|installation|\n",
      "+----------+--------------------+---------+-----------+---------+--------+------------+\n",
      "|         2|San Jose Diridon ...|37.329732|-121.901782|       27|San Jose|    8/6/2013|\n",
      "|         3|San Jose Civic Ce...|37.330698|-121.888979|       15|San Jose|    8/5/2013|\n",
      "|         4|Santa Clara at Al...|37.333988|-121.894902|       11|San Jose|    8/6/2013|\n",
      "|         5|    Adobe on Almaden|37.331415|  -121.8932|       19|San Jose|    8/5/2013|\n",
      "+----------+--------------------+---------+-----------+---------+--------+------------+\n",
      "only showing top 4 rows\n",
      "\n"
     ]
    },
    {
     "name": "stderr",
     "output_type": "stream",
     "text": [
      "                                                                                \r"
     ]
    },
    {
     "name": "stdout",
     "output_type": "stream",
     "text": [
      "354152\n",
      "+-------+--------+---------------+--------------------+--------------+---------------+--------------------+------------+------+---------------+--------+\n",
      "|Trip ID|Duration|     Start Date|       Start Station|Start Terminal|       End Date|         End Station|End Terminal|Bike #|Subscriber Type|Zip Code|\n",
      "+-------+--------+---------------+--------------------+--------------+---------------+--------------------+------------+------+---------------+--------+\n",
      "| 913460|     765|8/31/2015 23:26|Harry Bridges Pla...|            50|8/31/2015 23:39|San Francisco Cal...|          70|   288|     Subscriber|    2139|\n",
      "| 913459|    1036|8/31/2015 23:11|San Antonio Shopp...|            31|8/31/2015 23:28|Mountain View Cit...|          27|    35|     Subscriber|   95032|\n",
      "| 913455|     307|8/31/2015 23:13|      Post at Kearny|            47|8/31/2015 23:18|   2nd at South Park|          64|   468|     Subscriber|   94107|\n",
      "| 913454|     409|8/31/2015 23:10|  San Jose City Hall|            10|8/31/2015 23:17| San Salvador at 1st|           8|    68|     Subscriber|   95113|\n",
      "+-------+--------+---------------+--------------------+--------------+---------------+--------------------+------------+------+---------------+--------+\n",
      "only showing top 4 rows\n",
      "\n"
     ]
    }
   ],
   "source": [
    "SPARK_GUIDE_REPO_PATH = \"/home/jupyter/src-github/Spark-The-Definitive-Guide\"\n",
    "bikeStations = spark.read.option(\"header\",\"true\")\\\n",
    "  .csv(f\"{SPARK_GUIDE_REPO_PATH}/data/bike-data/201508_station_data.csv\")\n",
    "tripData = spark.read.option(\"header\",\"true\")\\\n",
    "  .csv(f\"{SPARK_GUIDE_REPO_PATH}/data/bike-data/201508_trip_data.csv\")\n",
    "\n",
    "print(bikeStations.count())\n",
    "bikeStations.show(4)\n",
    "print(tripData.count())\n",
    "tripData.show(4)"
   ]
  },
  {
   "cell_type": "code",
   "execution_count": 5,
   "id": "65ca1eb0-d17d-42cd-bb2b-599e0a545c02",
   "metadata": {},
   "outputs": [
    {
     "name": "stdout",
     "output_type": "stream",
     "text": [
      "+----------+--------------------+---------+-----------+---------+-------------+------------+\n",
      "|station_id|                  id|      lat|       long|dockcount|     landmark|installation|\n",
      "+----------+--------------------+---------+-----------+---------+-------------+------------+\n",
      "|        51|Embarcadero at Fo...|37.791464|-122.391034|       19|San Francisco|   8/20/2013|\n",
      "|        58|San Francisco Cit...| 37.77865|-122.418235|       19|San Francisco|   8/21/2013|\n",
      "|        60|Embarcadero at Sa...| 37.80477|-122.403234|       15|San Francisco|   8/21/2013|\n",
      "|        65|     Townsend at 7th|37.771058|-122.402717|       15|San Francisco|   8/22/2013|\n",
      "+----------+--------------------+---------+-----------+---------+-------------+------------+\n",
      "only showing top 4 rows\n",
      "\n",
      "+-------+--------+---------------+--------------------+--------------+---------------+--------------------+------------+------+---------------+--------+\n",
      "|Trip ID|Duration|     Start Date|                 src|Start Terminal|       End Date|                 dst|End Terminal|Bike #|Subscriber Type|Zip Code|\n",
      "+-------+--------+---------------+--------------------+--------------+---------------+--------------------+------------+------+---------------+--------+\n",
      "| 913460|     765|8/31/2015 23:26|Harry Bridges Pla...|            50|8/31/2015 23:39|San Francisco Cal...|          70|   288|     Subscriber|    2139|\n",
      "| 913459|    1036|8/31/2015 23:11|San Antonio Shopp...|            31|8/31/2015 23:28|Mountain View Cit...|          27|    35|     Subscriber|   95032|\n",
      "| 913455|     307|8/31/2015 23:13|      Post at Kearny|            47|8/31/2015 23:18|   2nd at South Park|          64|   468|     Subscriber|   94107|\n",
      "| 913454|     409|8/31/2015 23:10|  San Jose City Hall|            10|8/31/2015 23:17| San Salvador at 1st|           8|    68|     Subscriber|   95113|\n",
      "+-------+--------+---------------+--------------------+--------------+---------------+--------------------+------------+------+---------------+--------+\n",
      "only showing top 4 rows\n",
      "\n"
     ]
    }
   ],
   "source": [
    "stationVertices = bikeStations.withColumnRenamed(\"name\", \"id\").distinct()\n",
    "tripEdges = tripData\\\n",
    "  .withColumnRenamed(\"Start Station\", \"src\")\\\n",
    "  .withColumnRenamed(\"End Station\", \"dst\")\n",
    "\n",
    "stationVertices.show(4)\n",
    "tripEdges.show(4)"
   ]
  },
  {
   "cell_type": "code",
   "execution_count": 6,
   "id": "b0628d69-e189-4775-af0e-5b39c552d580",
   "metadata": {},
   "outputs": [
    {
     "name": "stderr",
     "output_type": "stream",
     "text": [
      "[Stage 15:==============================================>       (173 + 4) / 200]\r"
     ]
    },
    {
     "name": "stdout",
     "output_type": "stream",
     "text": [
      "정거장 수: 70\n"
     ]
    },
    {
     "name": "stderr",
     "output_type": "stream",
     "text": [
      "                                                                                \r"
     ]
    },
    {
     "name": "stdout",
     "output_type": "stream",
     "text": [
      "전체 여행 수: 354152\n",
      "전체 여행 수 원 데이터: 354152\n"
     ]
    }
   ],
   "source": [
    "from graphframes import GraphFrame\n",
    "stationGraph = GraphFrame(stationVertices, tripEdges)\n",
    "stationGraph.cache()\n",
    "\n",
    "print('정거장 수: ' + str(stationGraph.vertices.count()) )\n",
    "print('전체 여행 수: ' + str(stationGraph.edges.count()) )\n",
    "print('전체 여행 수 원 데이터: ' + str(tripData.count()) )"
   ]
  },
  {
   "cell_type": "markdown",
   "id": "78b19ca8-3850-4b81-8229-eb740a13dfd5",
   "metadata": {},
   "source": [
    "# 그래프 쿼리하기"
   ]
  },
  {
   "cell_type": "code",
   "execution_count": 7,
   "id": "1b8da48d-fea5-49ca-91e1-ce4e38825290",
   "metadata": {},
   "outputs": [
    {
     "name": "stderr",
     "output_type": "stream",
     "text": [
      "[Stage 25:>                                                         (0 + 4) / 4]\r"
     ]
    },
    {
     "name": "stdout",
     "output_type": "stream",
     "text": [
      "+--------------------+--------------------+-----+\n",
      "|                 src|                 dst|count|\n",
      "+--------------------+--------------------+-----+\n",
      "|San Francisco Cal...|     Townsend at 7th| 3748|\n",
      "|Harry Bridges Pla...|Embarcadero at Sa...| 3145|\n",
      "|     2nd at Townsend|Harry Bridges Pla...| 2973|\n",
      "|     Townsend at 7th|San Francisco Cal...| 2734|\n",
      "|Harry Bridges Pla...|     2nd at Townsend| 2640|\n",
      "|Embarcadero at Fo...|San Francisco Cal...| 2439|\n",
      "|   Steuart at Market|     2nd at Townsend| 2356|\n",
      "|Embarcadero at Sa...|   Steuart at Market| 2330|\n",
      "|     Townsend at 7th|San Francisco Cal...| 2192|\n",
      "|Temporary Transba...|San Francisco Cal...| 2184|\n",
      "+--------------------+--------------------+-----+\n",
      "only showing top 10 rows\n",
      "\n"
     ]
    },
    {
     "name": "stderr",
     "output_type": "stream",
     "text": [
      "                                                                                \r"
     ]
    }
   ],
   "source": [
    "import pyspark.sql.functions as F\n",
    "stationGraph.edges.groupBy('src', 'dst').count().orderBy(F.desc('count')).show(10)"
   ]
  },
  {
   "cell_type": "code",
   "execution_count": 8,
   "id": "e04ac69d-fdde-4127-b3e3-770b5c22b68f",
   "metadata": {},
   "outputs": [
    {
     "name": "stdout",
     "output_type": "stream",
     "text": [
      "+--------------------+--------------------+-----+\n",
      "|                 src|                 dst|count|\n",
      "+--------------------+--------------------+-----+\n",
      "|   2nd at South Park|     Townsend at 7th|  312|\n",
      "|Embarcadero at Br...|     Townsend at 7th|  197|\n",
      "|     Clay at Battery|     Townsend at 7th|   83|\n",
      "|       5th at Howard|     Townsend at 7th|  317|\n",
      "|     Townsend at 7th|South Van Ness at...|  368|\n",
      "|     Townsend at 7th|San Francisco Cit...|   46|\n",
      "|   Market at Sansome|     Townsend at 7th|  278|\n",
      "|     Townsend at 7th|      Market at 10th|  387|\n",
      "|San Francisco Cal...|     Townsend at 7th| 1198|\n",
      "|Washington at Kearny|     Townsend at 7th|   60|\n",
      "+--------------------+--------------------+-----+\n",
      "only showing top 10 rows\n",
      "\n"
     ]
    }
   ],
   "source": [
    "stationGraph.edges.where(\"src ='Townsend at 7th' OR dst = 'Townsend at 7th' \").groupBy('src', 'dst').count().show(10)"
   ]
  },
  {
   "cell_type": "markdown",
   "id": "78a6a037-c17b-447c-99cc-35549bdf0cb4",
   "metadata": {},
   "source": [
    "# 서브 그래프\n",
    "- 규모가 큰 그래프 안에서 형성되는 작은 규모의 그래프를 서브그래프라고 합니다. (그냥 edge 필터해서 새로 그래프 만든거네...)"
   ]
  },
  {
   "cell_type": "code",
   "execution_count": 9,
   "id": "21f01f18-609d-434a-951a-e1373bf14c8d",
   "metadata": {},
   "outputs": [],
   "source": [
    "townAnd7thedges = stationGraph.edges.where(\"src ='Townsend at 7th' OR dst = 'Townsend at 7th' \")\n",
    "subgraph = GraphFrame(stationGraph.vertices, townAnd7thedges)"
   ]
  },
  {
   "cell_type": "markdown",
   "id": "67eab75d-6e7b-403a-9d7c-18dde4d8918d",
   "metadata": {},
   "source": [
    "# 모티프 찾기\n",
    "- 모티프란 구조적 패턴을 그래프로 표현하는 방법입니다. 모티프를 지정하면 실제 데이터 대신 데이터의 패턴을 쿼리합니다. DataFrame에서는 Neo4J의 Cypher 언어와 유사한 도메인에 특화된 언어로 쿼리를 지정하는데, 이 언어를 사용하면 정점과 에지의 조합을 지정하고 그에 대한 이름을 할당할 수 있습니다. 예를 들어 정점 a 가 에지 ab를 통해 다른 정점 b에 연결되도록 하려면 (a)-[ab]→(b) 로 작성합니다. 괄호 또는 대괄호 안의 이름은 값을 나타내는 게 아니라 결과로 나오는 DataFrame에 존재하는 이름과 일치하는 정점 및 가장자리 컬럼 이름입니다, 결과값 반환 목적이 아니면 이름은 생략해도 됩니다. ((a) - [] → () )"
   ]
  },
  {
   "cell_type": "code",
   "execution_count": null,
   "id": "903332d2-b2c3-404a-82a8-f745dfd54475",
   "metadata": {},
   "outputs": [],
   "source": [
    "# 1. 세 도착지 간에 삼각형 패턴을 형성하는 모든 자전거를 찾아봅시다. 삼각형 패턴이란 a에서 b로, b에서 c로, c에서 a로 연결되는 에지를 가지는 정점 a,b,c가 있다는 뜻입니다\n",
    "# 이 코드를 실행하면 정점 a,b,c와 각 에지의 중첩 필드가 포함된 DataFrame 이 생성되고 이제 이 DataFrame에 사용되는 쿼리를 작성할 수 있습니다.\n",
    "motifs = stationGraph.find('(a)-[ab]->(b); (b)-[bc]->(c); (c)-[ca]->(a)')\n",
    "\n",
    "# 2. 특정 자전거를 대상으로 위 삼각형 패턴 중 가장 짧은 경로를 찾아봅시다.\n",
    "# 기존의 타임스탬프를 스파크의 타임스탬프로 파싱한 다음 특정 지점에서 다른 지점으로 이동한 자전거가 동일한 것인지, 각 이동을 시작하는 시점이 올바른지 확인하기 위해 비교를 수행합니다.\n",
    "# 이때 유의해야 할 점은 모티프 쿼리가 반환한 삼각형(결과값)을 필터링해야 한다는 것입니다. 보통 이러한 쿼리에서는 동일한 정점 ID가 여러 개 있는 경우 하나의 정점 ID로 통합시키지 않으므로, 하나의 정점으로 통합하기 원하면 필터링을 수행해야 합니다.\n",
    "motifs.selectExpr(\"*\",\n",
    "    \"to_timestamp(ab.`Start Date`, 'MM/dd/yyyy HH:mm') as abStart\",\n",
    "    \"to_timestamp(bc.`Start Date`, 'MM/dd/yyyy HH:mm') as bcStart\",\n",
    "    \"to_timestamp(ca.`Start Date`, 'MM/dd/yyyy HH:mm') as caStart\")\\\n",
    "  .where(\"ca.`Bike #` = bc.`Bike #`\").where(\"ab.`Bike #` = bc.`Bike #`\")\\\n",
    "  .where(\"a.id != b.id\").where(\"b.id != c.id\")\\\n",
    "  .where(\"abStart < bcStart\").where(\"bcStart < caStart\")\\\n",
    "  .orderBy(F.expr(\"cast(caStart as long) - cast(abStart as long)\"))\\\n",
    "  .selectExpr(\"a.id\", \"b.id\", \"c.id\", \"ab.`Start Date`\", \"ca.`End Date`\")\\\n",
    "  .limit(1).show(1, False)\n",
    "\n",
    "# 가장 짧은 삼각형 경로는 San Francisco Caltrain 2 → Townsend at 7th → San Francisco Clatrain → San Francisco Caltrain2 순으로 총  22분 정도 걸렸네요.\n",
    "# 이렇게 모티프 찾기를 결과 테이블 통해 DataFrame 쿼리와 결합하여 발견된 패턴을 더욱 간결히 하거나 정렬, 집계할 수 있다는 것이 GraphFrame의 가장 강력한 기능이라고 합니다."
   ]
  },
  {
   "cell_type": "markdown",
   "id": "94ccdbe8-5d4e-4fe0-9b49-bd382adb7b00",
   "metadata": {},
   "source": [
    "# 알고리즘"
   ]
  },
  {
   "cell_type": "code",
   "execution_count": 11,
   "id": "b3f4f607-8587-4605-8cf6-17bf495d6c98",
   "metadata": {},
   "outputs": [
    {
     "name": "stderr",
     "output_type": "stream",
     "text": [
      "                                                                                \r"
     ]
    },
    {
     "name": "stdout",
     "output_type": "stream",
     "text": [
      "+--------------------+------------------+\n",
      "|                  id|          pagerank|\n",
      "+--------------------+------------------+\n",
      "|San Jose Diridon ...|  4.05150483599002|\n",
      "|San Francisco Cal...| 3.351183296428697|\n",
      "|Mountain View Cal...| 2.514390771015544|\n",
      "|Redwood City Calt...|2.3263087713711714|\n",
      "|San Francisco Cal...|2.2311442913698833|\n",
      "|Harry Bridges Pla...|1.8251120118882476|\n",
      "|     2nd at Townsend|1.5821217785038693|\n",
      "|Santa Clara at Al...|1.5730074084907586|\n",
      "|     Townsend at 7th| 1.568456580534055|\n",
      "|Embarcadero at Sa...| 1.541424208774859|\n",
      "+--------------------+------------------+\n",
      "only showing top 10 rows\n",
      "\n"
     ]
    },
    {
     "name": "stderr",
     "output_type": "stream",
     "text": [
      "                                                                                \r"
     ]
    }
   ],
   "source": [
    "# 1.페이지랭크\n",
    "ranks = stationGraph.pageRank(resetProbability=0.15, maxIter=10)\n",
    "ranks.vertices.orderBy(F.desc('pagerank')).select('id', 'pagerank').show(10)"
   ]
  },
  {
   "cell_type": "code",
   "execution_count": 16,
   "id": "12ca2836-182b-4ccf-b184-db9af56a057c",
   "metadata": {},
   "outputs": [
    {
     "name": "stdout",
     "output_type": "stream",
     "text": [
      "+----------------------------------------+--------+\n",
      "|id                                      |inDegree|\n",
      "+----------------------------------------+--------+\n",
      "|San Francisco Caltrain (Townsend at 4th)|34810   |\n",
      "|San Francisco Caltrain 2 (330 Townsend) |22523   |\n",
      "|Harry Bridges Plaza (Ferry Building)    |17810   |\n",
      "|2nd at Townsend                         |15463   |\n",
      "|Townsend at 7th                         |15422   |\n",
      "+----------------------------------------+--------+\n",
      "only showing top 5 rows\n",
      "\n",
      "+---------------------------------------------+---------+\n",
      "|id                                           |outDegree|\n",
      "+---------------------------------------------+---------+\n",
      "|San Francisco Caltrain (Townsend at 4th)     |26304    |\n",
      "|San Francisco Caltrain 2 (330 Townsend)      |21758    |\n",
      "|Harry Bridges Plaza (Ferry Building)         |17255    |\n",
      "|Temporary Transbay Terminal (Howard at Beale)|14436    |\n",
      "|Embarcadero at Sansome                       |14158    |\n",
      "+---------------------------------------------+---------+\n",
      "only showing top 5 rows\n",
      "\n",
      "+----------------------------------------+------------------+\n",
      "|id                                      |degreeRatio       |\n",
      "+----------------------------------------+------------------+\n",
      "|Redwood City Medical Center             |1.5333333333333334|\n",
      "|San Mateo County Center                 |1.4724409448818898|\n",
      "|SJSU 4th at San Carlos                  |1.3621052631578947|\n",
      "|San Francisco Caltrain (Townsend at 4th)|1.3233728710462287|\n",
      "|Washington at Kearny                    |1.3086466165413533|\n",
      "|Paseo de San Antonio                    |1.2535046728971964|\n",
      "|California Ave Caltrain Station         |1.24              |\n",
      "|Franklin at Maple                       |1.2345679012345678|\n",
      "|Embarcadero at Vallejo                  |1.2201707365495336|\n",
      "|Market at Sansome                       |1.2173913043478262|\n",
      "+----------------------------------------+------------------+\n",
      "only showing top 10 rows\n",
      "\n"
     ]
    }
   ],
   "source": [
    "# 2. In-Degree와 Out-Degree 지표 계산\n",
    "inDeg = stationGraph.inDegrees\n",
    "inDeg.orderBy(F.desc('inDegree')).show(5,False)\n",
    "\n",
    "outDeg = stationGraph.outDegrees\n",
    "outDeg.orderBy(F.desc('outDegree')).show(5,False)\n",
    "\n",
    "degreeRatio = inDeg.join(outDeg, 'id').selectExpr('id','double(inDegree)/double(outDegree) as degreeRatio')\n",
    "degreeRatio.orderBy(F.desc('degreeRatio')).show(10,False)"
   ]
  },
  {
   "cell_type": "code",
   "execution_count": 17,
   "id": "95ed49f7-6649-4bfc-93b9-f87440798172",
   "metadata": {},
   "outputs": [
    {
     "name": "stdout",
     "output_type": "stream",
     "text": [
      "+--------------------+--------------------+--------------------+\n",
      "|                from|                  e0|                  to|\n",
      "+--------------------+--------------------+--------------------+\n",
      "|{65, Townsend at ...|{913371, 663, 8/3...|{49, Spear at Fol...|\n",
      "|{65, Townsend at ...|{913265, 658, 8/3...|{49, Spear at Fol...|\n",
      "|{65, Townsend at ...|{911919, 722, 8/3...|{49, Spear at Fol...|\n",
      "|{65, Townsend at ...|{910777, 704, 8/2...|{49, Spear at Fol...|\n",
      "|{65, Townsend at ...|{908994, 1115, 8/...|{49, Spear at Fol...|\n",
      "|{65, Townsend at ...|{906912, 892, 8/2...|{49, Spear at Fol...|\n",
      "|{65, Townsend at ...|{905201, 980, 8/2...|{49, Spear at Fol...|\n",
      "|{65, Townsend at ...|{904010, 969, 8/2...|{49, Spear at Fol...|\n",
      "|{65, Townsend at ...|{903375, 850, 8/2...|{49, Spear at Fol...|\n",
      "|{65, Townsend at ...|{899944, 910, 8/2...|{49, Spear at Fol...|\n",
      "+--------------------+--------------------+--------------------+\n",
      "only showing top 10 rows\n",
      "\n"
     ]
    }
   ],
   "source": [
    "# 3. 너비 우선 탐색\n",
    "stationGraph.bfs(fromExpr=\"id = 'Townsend at 7th'\", toExpr=\"id = 'Spear at Folsom'\", maxPathLength =2).show(10)"
   ]
  },
  {
   "cell_type": "code",
   "execution_count": null,
   "id": "287ed54b-e522-4c80-a49b-3407c229af64",
   "metadata": {},
   "outputs": [],
   "source": [
    "# 4. 연결 요소 & 강한 연결 요소\n",
    "'''\n",
    "각 Vertex의 Connected Component Membership을 계산하여 각 Vertex에 할당된 Component ID를\n",
    "갖는 DataFrame을 반환한다. 즉, 연결된 Vertex 끼리는 같은 Component ID를 갖는다.\n",
    "'''\n",
    "minGraph = GraphFrame(stationVertices, tripEdges.sample(False, 0.1))\n",
    "minGraph.connectedComponents().run().show()"
   ]
  },
  {
   "cell_type": "code",
   "execution_count": null,
   "id": "57528d11-d48d-4030-a09d-581f052a3b78",
   "metadata": {},
   "outputs": [],
   "source": [
    "# 5. SCC 찾기\n",
    "'''\n",
    "Strongly Connected Components(SCC) 설명\n",
    "Directed Graph의 어떠한 두 Vertex x와 y에서 x로부터 y까지의 경로와 y로부터 x까지의 경로가 모두 존재하면 x와 y는 Strongly Connected라고 한다. \n",
    "즉, Directed Graph에서 x에서 출발하여 y에 도달한 후, 다시 x로 돌아가는 경로가 존재할 경우를 말한다. \n",
    "Strongly Connected Components는 이렇게 서로  Strongly Connected된 Vertex들의 집합(또는 Subgraph)를 말한다.\n",
    "\n",
    "https://m.blog.naver.com/PostView.naver?isHttpsRedirect=true&blogId=8x8x8x8x8x8&logNo=220758152145\n",
    "'''\n",
    "scc = minGraph.stronglyConnectedComponents(maxIter=3)\n",
    "scc.groupBy('component').count().show()"
   ]
  },
  {
   "cell_type": "code",
   "execution_count": null,
   "id": "15a57947-12c4-4565-9a93-6aef540e61f3",
   "metadata": {},
   "outputs": [],
   "source": []
  }
 ],
 "metadata": {
  "environment": {
   "name": "common-cu110.m81",
   "type": "gcloud",
   "uri": "gcr.io/deeplearning-platform-release/base-cu110:m81"
  },
  "kernelspec": {
   "display_name": "Python 3",
   "language": "python",
   "name": "python3"
  },
  "language_info": {
   "codemirror_mode": {
    "name": "ipython",
    "version": 3
   },
   "file_extension": ".py",
   "mimetype": "text/x-python",
   "name": "python",
   "nbconvert_exporter": "python",
   "pygments_lexer": "ipython3",
   "version": "3.7.10"
  }
 },
 "nbformat": 4,
 "nbformat_minor": 5
}
