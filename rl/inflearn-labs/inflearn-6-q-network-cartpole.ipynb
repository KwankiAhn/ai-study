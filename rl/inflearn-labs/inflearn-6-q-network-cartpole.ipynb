{
 "cells": [
  {
   "cell_type": "code",
   "execution_count": 1,
   "metadata": {},
   "outputs": [
    {
     "data": {
      "text/plain": [
       "array([-0.03867651,  0.0396662 ,  0.01164865,  0.03682089])"
      ]
     },
     "execution_count": 1,
     "metadata": {},
     "output_type": "execute_result"
    }
   ],
   "source": [
    "import gym\n",
    "env = gym.make(\"CartPole-v0\")\n",
    "env.reset()"
   ]
  },
  {
   "cell_type": "markdown",
   "metadata": {},
   "source": [
    "# Run Game (Random action)"
   ]
  },
  {
   "cell_type": "code",
   "execution_count": 21,
   "metadata": {},
   "outputs": [
    {
     "name": "stdout",
     "output_type": "stream",
     "text": [
      "Reward for this episode (13) was : 14\n",
      "Reward for this episode (23) was : 10\n",
      "Reward for this episode (40) was : 17\n",
      "Reward for this episode (80) was : 40\n"
     ]
    }
   ],
   "source": [
    "episode_number = 100\n",
    "reward_sum = 0\n",
    "reward_list = []\n",
    "for i in range(episode_number):\n",
    "    env.render()\n",
    "    action = env.action_space.sample()\n",
    "    observation, reward, done, _ = env.step(action)\n",
    "    reward_sum += 1\n",
    "    if done:\n",
    "        print(\"Reward for this episode ({}) was : {}\".format(i, reward_sum))\n",
    "        reward_sum = 0\n",
    "        env.reset()\n",
    "        reward_list.append(0)\n",
    "    else:\n",
    "        reward_list.append(1)"
   ]
  },
  {
   "cell_type": "code",
   "execution_count": 22,
   "metadata": {
    "scrolled": true
   },
   "outputs": [
    {
     "name": "stdout",
     "output_type": "stream",
     "text": [
      "Success rate : 0.96\n"
     ]
    },
    {
     "data": {
      "image/png": "[encoded data removed]",
      "text/plain": [
       "<Figure size 864x144 with 1 Axes>"
      ]
     },
     "metadata": {
      "needs_background": "light"
     },
     "output_type": "display_data"
    }
   ],
   "source": [
    "print(\"Success rate : {}\".format(sum(reward_list)/episode_number))\n",
    "# print(\"Final Q-Table values\")\n",
    "# print(Q)\n",
    "import matplotlib.pyplot as plt\n",
    "plt.figure(figsize=(12, 2))\n",
    "plt.scatter(range(len(reward_list)), reward_list, color=\"blue\")\n",
    "plt.show()"
   ]
  },
  {
   "cell_type": "markdown",
   "metadata": {},
   "source": [
    "# Run Game (Train with Q Networkk)"
   ]
  },
  {
   "cell_type": "code",
   "execution_count": 114,
   "metadata": {},
   "outputs": [],
   "source": [
    "input_size = env.observation_space.shape[0]\n",
    "output_size = env.action_space.n"
   ]
  },
  {
   "cell_type": "code",
   "execution_count": 115,
   "metadata": {},
   "outputs": [],
   "source": [
    "import keras\n",
    "from keras.models import Sequential, Model\n",
    "from keras.layers import Input, Dense, Activation, Dropout\n",
    "from keras.optimizers import Adam, SGD\n",
    "from keras import metrics"
   ]
  },
  {
   "cell_type": "markdown",
   "metadata": {},
   "source": [
    "NN : instead of Q-table"
   ]
  },
  {
   "cell_type": "code",
   "execution_count": 122,
   "metadata": {},
   "outputs": [
    {
     "name": "stdout",
     "output_type": "stream",
     "text": [
      "_________________________________________________________________\n",
      "Layer (type)                 Output Shape              Param #   \n",
      "=================================================================\n",
      "input_26 (InputLayer)        (None, 4)                 0         \n",
      "_________________________________________________________________\n",
      "dense_47 (Dense)             (None, 256)               1280      \n",
      "_________________________________________________________________\n",
      "dropout_9 (Dropout)          (None, 256)               0         \n",
      "_________________________________________________________________\n",
      "dense_48 (Dense)             (None, 2)                 514       \n",
      "=================================================================\n",
      "Total params: 1,794\n",
      "Trainable params: 1,794\n",
      "Non-trainable params: 0\n",
      "_________________________________________________________________\n"
     ]
    }
   ],
   "source": [
    "def get_model(input_size, output_size):\n",
    "    input1 = Input(shape=(input_size,))\n",
    "    out1 = Dense(256, input_shape=(input_size,), activation='relu')(input1)\n",
    "    out1 = Dropout(0.3)(out1)\n",
    "    #out1 = Dense(128, activation='relu')(out1)\n",
    "    #out1 = Dropout(0.3)(out1)\n",
    "    out1 = Dense(output_size, activation='softmax')(out1)\n",
    "    model1 = Model(input1, out1) # input, output\n",
    "    model1.summary()\n",
    "    model1.compile(loss='mean_squared_error', \n",
    "                  optimizer=Adam(lr=0.001),  # , beta_1=0.9, beta_2=0.999, epsilon=1e-8),\n",
    "                  metrics=[metrics.categorical_accuracy])\n",
    "    return model1\n",
    "model = get_model(input_size, output_size)"
   ]
  },
  {
   "cell_type": "code",
   "execution_count": 123,
   "metadata": {},
   "outputs": [],
   "source": [
    "import numpy as np"
   ]
  },
  {
   "cell_type": "code",
   "execution_count": 124,
   "metadata": {
    "scrolled": true
   },
   "outputs": [
    {
     "name": "stdout",
     "output_type": "stream",
     "text": [
      "input_size : 4, output_size : 2\n",
      "Episode : 0, steps : 8\n",
      "Episode 0 train done, See our trained network in action.\n",
      "Total score : 64.0\n",
      "Episode : 1, steps : 9\n",
      "Episode 1 train done, See our trained network in action.\n",
      "Total score : 102.0\n",
      "Episode : 2, steps : 9\n",
      "Episode 2 train done, See our trained network in action.\n",
      "Total score : 47.0\n",
      "Episode : 3, steps : 9\n",
      "Episode 3 train done, See our trained network in action.\n",
      "Total score : 33.0\n",
      "Episode : 4, steps : 9\n",
      "Episode 4 train done, See our trained network in action.\n",
      "Total score : 10.0\n",
      "Episode : 5, steps : 8\n",
      "Episode 5 train done, See our trained network in action.\n",
      "Total score : 9.0\n",
      "Episode : 6, steps : 9\n",
      "Episode 6 train done, See our trained network in action.\n",
      "Total score : 10.0\n",
      "Episode : 7, steps : 10\n",
      "Episode 7 train done, See our trained network in action.\n",
      "Total score : 9.0\n",
      "Episode : 8, steps : 10\n",
      "Episode 8 train done, See our trained network in action.\n",
      "Total score : 17.0\n",
      "Episode : 9, steps : 8\n",
      "Episode 9 train done, See our trained network in action.\n",
      "Total score : 15.0\n",
      "Episode : 10, steps : 9\n",
      "Episode 10 train done, See our trained network in action.\n",
      "Total score : 9.0\n",
      "Episode : 11, steps : 9\n",
      "Episode 11 train done, See our trained network in action.\n",
      "Total score : 10.0\n",
      "Episode : 12, steps : 9\n",
      "Episode 12 train done, See our trained network in action.\n",
      "Total score : 10.0\n",
      "Episode : 13, steps : 10\n",
      "Episode 13 train done, See our trained network in action.\n",
      "Total score : 9.0\n",
      "Episode : 14, steps : 10\n",
      "Episode 14 train done, See our trained network in action.\n",
      "Total score : 9.0\n",
      "Episode : 15, steps : 9\n",
      "Episode 15 train done, See our trained network in action.\n",
      "Total score : 9.0\n",
      "Episode : 16, steps : 10\n",
      "Episode 16 train done, See our trained network in action.\n",
      "Total score : 16.0\n",
      "Episode : 17, steps : 10\n",
      "Episode 17 train done, See our trained network in action.\n",
      "Total score : 67.0\n",
      "Episode : 18, steps : 11\n",
      "Episode 18 train done, See our trained network in action.\n",
      "Total score : 114.0\n",
      "Episode : 19, steps : 8\n",
      "Episode 19 train done, See our trained network in action.\n",
      "Total score : 35.0\n",
      "Episode : 20, steps : 9\n",
      "Episode 20 train done, See our trained network in action.\n",
      "Total score : 36.0\n",
      "Episode : 21, steps : 9\n",
      "Episode 21 train done, See our trained network in action.\n",
      "Total score : 39.0\n",
      "Episode : 22, steps : 9\n",
      "Episode 22 train done, See our trained network in action.\n",
      "Total score : 30.0\n",
      "Episode : 23, steps : 10\n",
      "Episode 23 train done, See our trained network in action.\n",
      "Total score : 22.0\n",
      "Episode : 24, steps : 9\n",
      "Episode 24 train done, See our trained network in action.\n",
      "Total score : 28.0\n",
      "Episode : 25, steps : 9\n",
      "Episode 25 train done, See our trained network in action.\n",
      "Total score : 24.0\n",
      "Episode : 26, steps : 10\n",
      "Episode 26 train done, See our trained network in action.\n",
      "Total score : 31.0\n",
      "Episode : 27, steps : 9\n",
      "Episode 27 train done, See our trained network in action.\n",
      "Total score : 28.0\n",
      "Episode : 28, steps : 9\n",
      "Episode 28 train done, See our trained network in action.\n",
      "Total score : 19.0\n",
      "Episode : 29, steps : 9\n",
      "Episode 29 train done, See our trained network in action.\n",
      "Total score : 10.0\n",
      "Episode : 30, steps : 9\n",
      "Episode 30 train done, See our trained network in action.\n",
      "Total score : 9.0\n",
      "Episode : 31, steps : 10\n",
      "Episode 31 train done, See our trained network in action.\n",
      "Total score : 13.0\n",
      "Episode : 32, steps : 11\n",
      "Episode 32 train done, See our trained network in action.\n",
      "Total score : 16.0\n",
      "Episode : 33, steps : 10\n",
      "Episode 33 train done, See our trained network in action.\n",
      "Total score : 12.0\n",
      "Episode : 34, steps : 10\n",
      "Episode 34 train done, See our trained network in action.\n",
      "Total score : 18.0\n",
      "Episode : 35, steps : 10\n",
      "Episode 35 train done, See our trained network in action.\n",
      "Total score : 17.0\n",
      "Episode : 36, steps : 9\n",
      "Episode 36 train done, See our trained network in action.\n",
      "Total score : 15.0\n",
      "Episode : 37, steps : 10\n",
      "Episode 37 train done, See our trained network in action.\n",
      "Total score : 10.0\n",
      "Episode : 38, steps : 10\n",
      "Episode 38 train done, See our trained network in action.\n",
      "Total score : 8.0\n",
      "Episode : 39, steps : 9\n",
      "Episode 39 train done, See our trained network in action.\n",
      "Total score : 11.0\n",
      "Episode : 40, steps : 10\n",
      "Episode 40 train done, See our trained network in action.\n",
      "Total score : 10.0\n",
      "Episode : 41, steps : 9\n",
      "Episode 41 train done, See our trained network in action.\n",
      "Total score : 10.0\n",
      "Episode : 42, steps : 10\n",
      "Episode 42 train done, See our trained network in action.\n",
      "Total score : 8.0\n",
      "Episode : 43, steps : 10\n",
      "Episode 43 train done, See our trained network in action.\n",
      "Total score : 9.0\n",
      "Episode : 44, steps : 8\n",
      "Episode 44 train done, See our trained network in action.\n",
      "Total score : 8.0\n",
      "Episode : 45, steps : 10\n",
      "Episode 45 train done, See our trained network in action.\n",
      "Total score : 8.0\n",
      "Episode : 46, steps : 10\n",
      "Episode 46 train done, See our trained network in action.\n",
      "Total score : 10.0\n",
      "Episode : 47, steps : 9\n",
      "Episode 47 train done, See our trained network in action.\n",
      "Total score : 9.0\n",
      "Episode : 48, steps : 10\n",
      "Episode 48 train done, See our trained network in action.\n",
      "Total score : 9.0\n",
      "Episode : 49, steps : 9\n",
      "Episode 49 train done, See our trained network in action.\n",
      "Total score : 8.0\n",
      "Episode : 50, steps : 10\n",
      "Episode 50 train done, See our trained network in action.\n",
      "Total score : 8.0\n",
      "Episode : 51, steps : 10\n",
      "Episode 51 train done, See our trained network in action.\n",
      "Total score : 9.0\n",
      "Episode : 52, steps : 8\n",
      "Episode 52 train done, See our trained network in action.\n",
      "Total score : 11.0\n",
      "Episode : 53, steps : 9\n",
      "Episode 53 train done, See our trained network in action.\n",
      "Total score : 10.0\n",
      "Episode : 54, steps : 10\n",
      "Episode 54 train done, See our trained network in action.\n",
      "Total score : 10.0\n",
      "Episode : 55, steps : 9\n",
      "Episode 55 train done, See our trained network in action.\n",
      "Total score : 9.0\n",
      "Episode : 56, steps : 9\n",
      "Episode 56 train done, See our trained network in action.\n",
      "Total score : 9.0\n",
      "Episode : 57, steps : 10\n",
      "Episode 57 train done, See our trained network in action.\n",
      "Total score : 10.0\n",
      "Episode : 58, steps : 8\n",
      "Episode 58 train done, See our trained network in action.\n",
      "Total score : 10.0\n",
      "Episode : 59, steps : 10\n",
      "Episode 59 train done, See our trained network in action.\n",
      "Total score : 9.0\n",
      "Episode : 60, steps : 11\n",
      "Episode 60 train done, See our trained network in action.\n",
      "Total score : 10.0\n",
      "Episode : 61, steps : 8\n",
      "Episode 61 train done, See our trained network in action.\n",
      "Total score : 10.0\n",
      "Episode : 62, steps : 9\n",
      "Episode 62 train done, See our trained network in action.\n",
      "Total score : 10.0\n",
      "Episode : 63, steps : 10\n",
      "Episode 63 train done, See our trained network in action.\n",
      "Total score : 9.0\n",
      "Episode : 64, steps : 10\n",
      "Episode 64 train done, See our trained network in action.\n",
      "Total score : 9.0\n",
      "Episode : 65, steps : 10\n",
      "Episode 65 train done, See our trained network in action.\n",
      "Total score : 9.0\n",
      "Episode : 66, steps : 9\n",
      "Episode 66 train done, See our trained network in action.\n",
      "Total score : 11.0\n",
      "Episode : 67, steps : 9\n",
      "Episode 67 train done, See our trained network in action.\n",
      "Total score : 10.0\n",
      "Episode : 68, steps : 11\n",
      "Episode 68 train done, See our trained network in action.\n",
      "Total score : 10.0\n",
      "Episode : 69, steps : 10\n",
      "Episode 69 train done, See our trained network in action.\n",
      "Total score : 11.0\n",
      "Episode : 70, steps : 9\n",
      "Episode 70 train done, See our trained network in action.\n",
      "Total score : 8.0\n",
      "Episode : 71, steps : 8\n",
      "Episode 71 train done, See our trained network in action.\n",
      "Total score : 9.0\n",
      "Episode : 72, steps : 9\n",
      "Episode 72 train done, See our trained network in action.\n",
      "Total score : 11.0\n",
      "Episode : 73, steps : 8\n",
      "Episode 73 train done, See our trained network in action.\n",
      "Total score : 9.0\n",
      "Episode : 74, steps : 8\n",
      "Episode 74 train done, See our trained network in action.\n",
      "Total score : 11.0\n",
      "Episode : 75, steps : 10\n",
      "Episode 75 train done, See our trained network in action.\n",
      "Total score : 9.0\n",
      "Episode : 76, steps : 10\n",
      "Episode 76 train done, See our trained network in action.\n",
      "Total score : 11.0\n",
      "Episode : 77, steps : 10\n",
      "Episode 77 train done, See our trained network in action.\n",
      "Total score : 10.0\n",
      "Episode : 78, steps : 10\n",
      "Episode 78 train done, See our trained network in action.\n",
      "Total score : 10.0\n",
      "Episode : 79, steps : 10\n",
      "Episode 79 train done, See our trained network in action.\n",
      "Total score : 8.0\n",
      "Episode : 80, steps : 9\n",
      "Episode 80 train done, See our trained network in action.\n",
      "Total score : 10.0\n",
      "Episode : 81, steps : 10\n",
      "Episode 81 train done, See our trained network in action.\n",
      "Total score : 9.0\n"
     ]
    },
    {
     "name": "stdout",
     "output_type": "stream",
     "text": [
      "Episode : 82, steps : 10\n",
      "Episode 82 train done, See our trained network in action.\n",
      "Total score : 10.0\n",
      "Episode : 83, steps : 9\n",
      "Episode 83 train done, See our trained network in action.\n",
      "Total score : 9.0\n",
      "Episode : 84, steps : 8\n",
      "Episode 84 train done, See our trained network in action.\n",
      "Total score : 9.0\n",
      "Episode : 85, steps : 10\n",
      "Episode 85 train done, See our trained network in action.\n",
      "Total score : 10.0\n",
      "Episode : 86, steps : 10\n",
      "Episode 86 train done, See our trained network in action.\n",
      "Total score : 9.0\n",
      "Episode : 87, steps : 11\n",
      "Episode 87 train done, See our trained network in action.\n",
      "Total score : 10.0\n",
      "Episode : 88, steps : 11\n",
      "Episode 88 train done, See our trained network in action.\n",
      "Total score : 10.0\n",
      "Episode : 89, steps : 10\n",
      "Episode 89 train done, See our trained network in action.\n",
      "Total score : 8.0\n",
      "Episode : 90, steps : 9\n",
      "Episode 90 train done, See our trained network in action.\n",
      "Total score : 8.0\n",
      "Episode : 91, steps : 8\n",
      "Episode 91 train done, See our trained network in action.\n",
      "Total score : 8.0\n",
      "Episode : 92, steps : 9\n",
      "Episode 92 train done, See our trained network in action.\n",
      "Total score : 9.0\n",
      "Episode : 93, steps : 9\n",
      "Episode 93 train done, See our trained network in action.\n",
      "Total score : 10.0\n",
      "Episode : 94, steps : 9\n",
      "Episode 94 train done, See our trained network in action.\n",
      "Total score : 9.0\n",
      "Episode : 95, steps : 9\n",
      "Episode 95 train done, See our trained network in action.\n",
      "Total score : 8.0\n",
      "Episode : 96, steps : 10\n",
      "Episode 96 train done, See our trained network in action.\n",
      "Total score : 10.0\n",
      "Episode : 97, steps : 9\n",
      "Episode 97 train done, See our trained network in action.\n",
      "Total score : 9.0\n",
      "Episode : 98, steps : 9\n",
      "Episode 98 train done, See our trained network in action.\n",
      "Total score : 10.0\n",
      "Episode : 99, steps : 9\n",
      "Episode 99 train done, See our trained network in action.\n",
      "Total score : 9.0\n"
     ]
    }
   ],
   "source": [
    "episode_number = 100\n",
    "reward_sum = 0\n",
    "reward_list = []\n",
    "dis = 0.9\n",
    "rList = []\n",
    "rList1 = []\n",
    "print(\"input_size : {}, output_size : {}\".format(input_size, output_size))\n",
    "\n",
    "for i in range(episode_number):\n",
    "    e = 1.0 / ((i / 10) + 1)\n",
    "    rAll = 0\n",
    "    step_count = 0\n",
    "    s = env.reset()\n",
    "    done = False\n",
    "    \n",
    "    # Q-Network training\n",
    "    while not done:\n",
    "        step_count += 1\n",
    "        x = np.reshape(s, [1, input_size])\n",
    "        # Choose an action by greedily (with e chance of fandom action) from the Q-network\n",
    "        Qs = model.predict(x)\n",
    "        if np.random.rand(1) < e:\n",
    "            a = env.action_space.sample()\n",
    "        else:\n",
    "            a = np.argmax(Qs)\n",
    "    \n",
    "        # Get new state, reward from environment\n",
    "        s1, reward, done, _ = env.step(action)\n",
    "        if done:\n",
    "            Qs[0, a] = -100\n",
    "        else:\n",
    "            x1 = np.reshape(s1, [1, input_size])\n",
    "            Qs1 = model.predict(x1)\n",
    "            Qs[0, a] = reward + dis * np.max(Qs1)\n",
    "            \n",
    "        # Train out network using target and predicted Q values on each episode\n",
    "        model.fit(x, Qs, epochs=1, batch_size=1, verbose=0)\n",
    "        s = s1\n",
    "        \n",
    "    rList.append(step_count)\n",
    "    print(\"Episode : {}, steps : {}\".format(i, step_count))\n",
    "    # If last 10's avg step are 500, it's good enough\n",
    "    if len(rList) > 10 and np.mean(rList[-10:]) > 100:\n",
    "        print(\"Good enough stop.\")\n",
    "        break\n",
    "        \n",
    "    # See our trained network in action\n",
    "    print(\"Episode {} train done, See our trained network in action.\".format(i))\n",
    "    observation = env.reset()\n",
    "    reward_sum = 0\n",
    "    while True:\n",
    "        env.render()\n",
    "        x = np.reshape(observation, [1, input_size])\n",
    "        Qs = model.predict(x)\n",
    "        a = np.argmax(Qs)\n",
    "        \n",
    "        observation, reward, done, _ = env.step(a)\n",
    "        reward_sum += reward\n",
    "        if done:\n",
    "            print(\"Total score : {}\".format(reward_sum))\n",
    "            rList1.append(reward_sum)\n",
    "            break;"
   ]
  },
  {
   "cell_type": "code",
   "execution_count": 125,
   "metadata": {},
   "outputs": [
    {
     "name": "stdout",
     "output_type": "stream",
     "text": [
      "Step count of each episode\n"
     ]
    },
    {
     "data": {
      "image/png": "[encoded data removed]",
      "text/plain": [
       "<Figure size 864x144 with 1 Axes>"
      ]
     },
     "metadata": {
      "needs_background": "light"
     },
     "output_type": "display_data"
    }
   ],
   "source": [
    "print(\"Step count of each episode\")\n",
    "# print(\"Final Q-Table values\")\n",
    "# print(Q)\n",
    "import matplotlib.pyplot as plt\n",
    "plt.figure(figsize=(12, 2))\n",
    "plt.plot(range(len(rList)), rList, color=\"blue\")\n",
    "plt.show()"
   ]
  },
  {
   "cell_type": "code",
   "execution_count": 126,
   "metadata": {},
   "outputs": [
    {
     "name": "stdout",
     "output_type": "stream",
     "text": [
      "Test score of each episode\n"
     ]
    },
    {
     "data": {
      "image/png": "[encoded data removed]",
      "text/plain": [
       "<Figure size 864x144 with 1 Axes>"
      ]
     },
     "metadata": {
      "needs_background": "light"
     },
     "output_type": "display_data"
    }
   ],
   "source": [
    "print(\"Test score of each episode\")\n",
    "# print(\"Final Q-Table values\")\n",
    "# print(Q)\n",
    "import matplotlib.pyplot as plt\n",
    "plt.figure(figsize=(12, 2))\n",
    "plt.plot(range(len(rList1)), rList1, color=\"blue\")\n",
    "plt.show()"
   ]
  },
  {
   "cell_type": "code",
   "execution_count": 127,
   "metadata": {},
   "outputs": [],
   "source": [
    "env.close()"
   ]
  },
  {
   "cell_type": "code",
   "execution_count": null,
   "metadata": {},
   "outputs": [],
   "source": []
  }
 ],
 "metadata": {
  "kernelspec": {
   "display_name": "Python 3",
   "language": "python",
   "name": "python3"
  },
  "language_info": {
   "codemirror_mode": {
    "name": "ipython",
    "version": 3
   },
   "file_extension": ".py",
   "mimetype": "text/x-python",
   "name": "python",
   "nbconvert_exporter": "python",
   "pygments_lexer": "ipython3",
   "version": "3.7.3"
  }
 },
 "nbformat": 4,
 "nbformat_minor": 2
}
