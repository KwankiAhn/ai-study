{
 "cells": [
  {
   "cell_type": "code",
   "execution_count": 1,
   "metadata": {},
   "outputs": [
    {
     "data": {
      "text/plain": [
       "array([-0.03051829, -0.0401324 , -0.01524503,  0.0194344 ])"
      ]
     },
     "execution_count": 1,
     "metadata": {},
     "output_type": "execute_result"
    }
   ],
   "source": [
    "%matplotlib inline\n",
    "import gym\n",
    "env = gym.make(\"CartPole-v0\")\n",
    "env.reset()"
   ]
  },
  {
   "cell_type": "markdown",
   "metadata": {},
   "source": [
    "# Q Networkk"
   ]
  },
  {
   "cell_type": "code",
   "execution_count": 2,
   "metadata": {},
   "outputs": [],
   "source": [
    "input_size = env.observation_space.shape[0]\n",
    "output_size = env.action_space.n"
   ]
  },
  {
   "cell_type": "code",
   "execution_count": 3,
   "metadata": {},
   "outputs": [
    {
     "name": "stderr",
     "output_type": "stream",
     "text": [
      "Using TensorFlow backend.\n"
     ]
    }
   ],
   "source": [
    "import keras\n",
    "from keras.models import Sequential, Model\n",
    "from keras.layers import Input, Dense, Activation, Dropout\n",
    "from keras.optimizers import Adam, SGD\n",
    "from keras import metrics"
   ]
  },
  {
   "cell_type": "markdown",
   "metadata": {},
   "source": [
    "NN : instead of Q-table"
   ]
  },
  {
   "cell_type": "code",
   "execution_count": 4,
   "metadata": {},
   "outputs": [
    {
     "name": "stdout",
     "output_type": "stream",
     "text": [
      "WARNING:tensorflow:From C:\\Users\\pray4\\Anaconda3\\lib\\site-packages\\keras\\backend\\tensorflow_backend.py:74: The name tf.get_default_graph is deprecated. Please use tf.compat.v1.get_default_graph instead.\n",
      "\n",
      "WARNING:tensorflow:From C:\\Users\\pray4\\Anaconda3\\lib\\site-packages\\keras\\backend\\tensorflow_backend.py:517: The name tf.placeholder is deprecated. Please use tf.compat.v1.placeholder instead.\n",
      "\n",
      "WARNING:tensorflow:From C:\\Users\\pray4\\Anaconda3\\lib\\site-packages\\keras\\backend\\tensorflow_backend.py:4138: The name tf.random_uniform is deprecated. Please use tf.random.uniform instead.\n",
      "\n",
      "_________________________________________________________________\n",
      "Layer (type)                 Output Shape              Param #   \n",
      "=================================================================\n",
      "input_1 (InputLayer)         (None, 4)                 0         \n",
      "_________________________________________________________________\n",
      "dense_1 (Dense)              (None, 8)                 40        \n",
      "_________________________________________________________________\n",
      "dense_2 (Dense)              (None, 2)                 18        \n",
      "=================================================================\n",
      "Total params: 58\n",
      "Trainable params: 58\n",
      "Non-trainable params: 0\n",
      "_________________________________________________________________\n",
      "WARNING:tensorflow:From C:\\Users\\pray4\\Anaconda3\\lib\\site-packages\\keras\\optimizers.py:790: The name tf.train.Optimizer is deprecated. Please use tf.compat.v1.train.Optimizer instead.\n",
      "\n"
     ]
    }
   ],
   "source": [
    "def get_model(input_size, output_size):\n",
    "    input1 = Input(shape=(input_size,))\n",
    "    out1 = Dense(8, input_shape=(input_size,), activation='relu')(input1)\n",
    "#     out1 = Dropout(0.5)(out1)\n",
    "#     out1 = Dense(256, activation='relu')(out1)\n",
    "#     out1 = Dropout(0.6)(out1)\n",
    "#     out1 = Dense(64, activation='relu')(out1)\n",
    "#     out1 = Dropout(0.6)(out1)\n",
    "    out1 = Dense(output_size, activation='linear')(out1)\n",
    "    model1 = Model(input1, out1) # input, output\n",
    "    model1.summary()\n",
    "    model1.compile(loss='mse', \n",
    "                  optimizer=Adam(lr=0.001),  # , beta_1=0.9, beta_2=0.999, epsilon=1e-8),\n",
    "                  metrics=[metrics.mean_squared_error])\n",
    "    return model1\n",
    "model = get_model(input_size, output_size)"
   ]
  },
  {
   "cell_type": "markdown",
   "metadata": {},
   "source": [
    "## Model"
   ]
  },
  {
   "cell_type": "code",
   "execution_count": 5,
   "metadata": {},
   "outputs": [],
   "source": [
    "import numpy as np\n",
    "from collections import deque\n",
    "import random"
   ]
  },
  {
   "cell_type": "code",
   "execution_count": 6,
   "metadata": {},
   "outputs": [],
   "source": [
    "def bot_play(mainDQN):\n",
    "    #rList1 = []\n",
    "    s = env.reset()\n",
    "    reward_sum = 0\n",
    "    while True:\n",
    "        env.render()\n",
    "        a = np.argmax(mainDQN.predict(np.reshape(s, [1, input_size])))\n",
    "        s, reward, done, _ = env.step(a)\n",
    "        reward_sum += reward\n",
    "        if done:\n",
    "            print(\"Total score : {}\".format(reward_sum))\n",
    "            #rList1.append(reward_sum)\n",
    "            break\n",
    "    return reward_sum"
   ]
  },
  {
   "cell_type": "code",
   "execution_count": 25,
   "metadata": {},
   "outputs": [],
   "source": [
    "def simple_replay_train(DQN, input_size, output_size, train_batch):\n",
    "    print(\".\", end=\"\")\n",
    "    # model.fit(x, Qs, epochs=1, batch_size=1, verbose=0)\n",
    "    x_stack = np.empty(0).reshape(0, input_size)\n",
    "    y_stack = np.empty(0).reshape(0, output_size)\n",
    "    \n",
    "    # Get stored information from the buffer\n",
    "    for state, action, reward, next_state, done in train_batch:\n",
    "        Q = DQN.predict(np.reshape(state, [1, input_size]))\n",
    "        \n",
    "        if done:\n",
    "            Q[0, action] = reward\n",
    "        else:\n",
    "            Q[0, action] = reward + dis * np.max(DQN.predict(np.reshape(next_state, [1, input_size])))\n",
    "        y_stack = np.vstack([y_stack, Q])\n",
    "        x_stack = np.vstack([x_stack, state])\n",
    "    return DQN.fit(x_stack, y_stack, epochs=1, batch_size=10, verbose=0)"
   ]
  },
  {
   "cell_type": "code",
   "execution_count": 26,
   "metadata": {},
   "outputs": [
    {
     "name": "stdout",
     "output_type": "stream",
     "text": [
      "Run episodes start, input_size : 4, output_size : 2\n"
     ]
    }
   ],
   "source": [
    "episode_number = 1500\n",
    "dis = 0.9\n",
    "REPLAY_MEMORY = 50000\n",
    "reward_sum = 0\n",
    "reward_list = []\n",
    "aRandomList = []\n",
    "rList = []\n",
    "rList1 = []\n",
    "replay_buffer = deque()\n",
    "print(\"Run episodes start, input_size : {}, output_size : {}\".format(input_size, output_size))"
   ]
  },
  {
   "cell_type": "markdown",
   "metadata": {},
   "source": [
    "## minibatch train"
   ]
  },
  {
   "cell_type": "code",
   "execution_count": 27,
   "metadata": {
    "scrolled": true
   },
   "outputs": [
    {
     "name": "stdout",
     "output_type": "stream",
     "text": [
      "Episode : 1 steps : 68\n",
      "..................................................Episode : 11 steps : 44\n",
      "..................................................Episode : 21 steps : 118\n",
      "..................................................Episode : 31 steps : 104\n",
      "..................................................Episode : 41 steps : 156\n",
      "..................................................Episode : 51 steps : 120\n",
      "..................................................Episode : 61 steps : 104\n",
      "..................................................Episode : 71 steps : 140\n",
      "..................................................Episode : 81 steps : 176\n",
      "..................................................Episode : 91 steps : 140\n",
      "..................................................Episode : 101 steps : 114\n",
      "..................................................Episode : 111 steps : 180\n",
      "..................................................Episode : 121 steps : 344\n",
      "..................................................Episode : 131 steps : 356\n",
      "..................................................Episode : 141 steps : 148\n",
      "..................................................Episode : 151 steps : 150\n",
      "..................................................Episode : 161 steps : 148\n",
      "..................................................Episode : 171 steps : 158\n",
      "..................................................Episode : 181 steps : 184\n",
      "..................................................Episode : 191 steps : 214\n",
      "..................................................Episode : 201 steps : 198\n",
      "..................................................Episode : 211 steps : 166\n",
      "..................................................Episode : 221 steps : 172\n",
      "..................................................Episode : 231 steps : 152\n",
      "..................................................Episode : 241 steps : 168\n",
      "..................................................Episode : 251 steps : 200\n",
      "..................................................Episode : 261 steps : 174\n",
      "..................................................Episode : 271 steps : 260\n",
      "..................................................Episode : 281 steps : 214\n",
      "..................................................Episode : 291 steps : 218\n",
      "..................................................Episode : 301 steps : 216\n",
      "..................................................Episode : 311 steps : 400\n",
      "..................................................Episode : 321 steps : 256\n",
      "..................................................Episode : 331 steps : 220\n",
      "..................................................Episode : 341 steps : 174\n",
      "..................................................Episode : 351 steps : 214\n",
      "..................................................Episode : 361 steps : 238\n",
      "..................................................Episode : 371 steps : 218\n",
      "..................................................Episode : 381 steps : 226\n",
      "..................................................Episode : 391 steps : 314\n",
      "..................................................Episode : 401 steps : 174\n",
      "..................................................Episode : 411 steps : 400\n",
      "..................................................Episode : 421 steps : 400\n",
      "..................................................Episode : 431 steps : 272\n",
      "..................................................Episode : 441 steps : 400\n",
      "..................................................Episode : 451 steps : 400\n",
      "..................................................Episode : 461 steps : 240\n",
      "..................................................Episode : 471 steps : 186\n",
      "..................................................Episode : 481 steps : 324\n",
      "..................................................Episode : 491 steps : 226\n",
      "..................................................Episode : 501 steps : 282\n",
      "..................................................Episode : 511 steps : 266\n",
      "..................................................Episode : 521 steps : 400\n",
      "..................................................Episode : 531 steps : 218\n",
      "..................................................Episode : 541 steps : 252\n",
      "..................................................Episode : 551 steps : 236\n",
      "..................................................Episode : 561 steps : 400\n",
      "..................................................Episode : 571 steps : 346\n",
      "..................................................Episode : 581 steps : 400\n",
      "..................................................Episode : 591 steps : 400\n",
      "..................................................Episode : 601 steps : 256\n",
      "..................................................Episode : 611 steps : 340\n",
      "..................................................Episode : 621 steps : 280\n",
      "..................................................Episode : 631 steps : 312\n",
      "..................................................Episode : 641 steps : 288\n",
      "..................................................Episode : 651 steps : 284\n",
      "..................................................Episode : 661 steps : 400\n",
      "..................................................Episode : 671 steps : 302\n",
      "..................................................Episode : 681 steps : 266\n",
      "..................................................Episode : 691 steps : 314\n",
      "..................................................Episode : 701 steps : 308\n",
      "..................................................Episode : 711 steps : 332\n",
      "..................................................Episode : 721 steps : 366\n",
      "..................................................Episode : 731 steps : 270\n",
      "..................................................Episode : 741 steps : 400\n",
      "..................................................Episode : 751 steps : 400\n",
      "..................................................Episode : 761 steps : 400\n",
      "..................................................Episode : 771 steps : 400\n",
      "..................................................Episode : 781 steps : 400\n",
      "..................................................Episode : 791 steps : 400\n",
      "..................................................Episode : 801 steps : 400\n",
      "..................................................Episode : 811 steps : 400\n",
      "..................................................Episode : 821 steps : 400\n",
      "..................................................Episode : 831 steps : 400\n",
      "..................................................Episode : 841 steps : 400\n",
      "..................................................Episode : 851 steps : 400\n",
      "..................................................Episode : 861 steps : 400\n",
      "..................................................Episode : 871 steps : 356\n",
      "..................................................Episode : 881 steps : 356\n",
      "..................................................Episode : 891 steps : 344\n",
      "..................................................Episode : 901 steps : 400\n",
      "..................................................Episode : 911 steps : 374\n",
      "..................................................Episode : 921 steps : 390\n",
      "..................................................Episode : 931 steps : 354\n",
      "..................................................Episode : 941 steps : 400\n",
      "..................................................Episode : 951 steps : 400\n",
      "..................................................Episode : 961 steps : 400\n",
      "..................................................Episode : 971 steps : 394\n",
      "..................................................Episode : 981 steps : 350\n",
      "..................................................Episode : 991 steps : 290\n",
      "..................................................Episode : 1001 steps : 400\n",
      "..................................................Episode : 1011 steps : 348\n",
      "..................................................Episode : 1021 steps : 316\n",
      "..................................................Episode : 1031 steps : 338\n",
      "..................................................Episode : 1041 steps : 400\n",
      "..................................................Episode : 1051 steps : 400\n",
      "..................................................Episode : 1061 steps : 302\n",
      "..................................................Episode : 1071 steps : 344\n"
     ]
    },
    {
     "name": "stdout",
     "output_type": "stream",
     "text": [
      "..................................................Episode : 1081 steps : 342\n",
      "..................................................Episode : 1091 steps : 356\n",
      "..................................................Episode : 1101 steps : 400\n",
      "..................................................Episode : 1111 steps : 320\n",
      "..................................................Episode : 1121 steps : 310\n",
      "..................................................Episode : 1131 steps : 312\n",
      "..................................................Episode : 1141 steps : 400\n",
      "..................................................Episode : 1151 steps : 400\n",
      "..................................................Episode : 1161 steps : 316\n",
      "..................................................Episode : 1171 steps : 324\n",
      "..................................................Episode : 1181 steps : 400\n",
      "..................................................Episode : 1191 steps : 400\n",
      "..................................................Episode : 1201 steps : 302\n",
      "..................................................Episode : 1211 steps : 350\n",
      "..................................................Episode : 1221 steps : 298\n",
      "..................................................Episode : 1231 steps : 356\n",
      "..................................................Episode : 1241 steps : 400\n",
      "..................................................Episode : 1251 steps : 400\n",
      "..................................................Episode : 1261 steps : 326\n",
      "..................................................Episode : 1271 steps : 400\n",
      "..................................................Episode : 1281 steps : 400\n",
      "..................................................Episode : 1291 steps : 360\n",
      "..................................................Episode : 1301 steps : 400\n",
      "..................................................Episode : 1311 steps : 312\n",
      "..................................................Episode : 1321 steps : 390\n",
      "..................................................Episode : 1331 steps : 354\n",
      "..................................................Episode : 1341 steps : 354\n",
      "..................................................Episode : 1351 steps : 378\n",
      "..................................................Episode : 1361 steps : 324\n",
      "..................................................Episode : 1371 steps : 294\n",
      "..................................................Episode : 1381 steps : 400\n",
      "..................................................Episode : 1391 steps : 400\n",
      "..................................................Episode : 1401 steps : 400\n",
      "..................................................Episode : 1411 steps : 316\n",
      "..................................................Episode : 1421 steps : 400\n",
      "..................................................Episode : 1431 steps : 348\n",
      "..................................................Episode : 1441 steps : 400\n",
      "..................................................Episode : 1451 steps : 400\n",
      "..................................................Episode : 1461 steps : 400\n",
      "..................................................Episode : 1471 steps : 400\n",
      "..................................................Episode : 1481 steps : 400\n",
      "..................................................Episode : 1491 steps : 344\n",
      ".................................................."
     ]
    }
   ],
   "source": [
    "for i in range(episode_number):\n",
    "    e = 1.0 / ((i / 10) + 1)\n",
    "    step_count = 0\n",
    "    state = env.reset()\n",
    "    done = False\n",
    "    \n",
    "    while not done:\n",
    "        step_count += 1\n",
    "        if np.random.rand(1) < e:\n",
    "            action = env.action_space.sample()\n",
    "            aRandomList.append(1)\n",
    "        else:\n",
    "            # Choose an action by greedily (with e chance of fandom action) from the Q-network\n",
    "            action = np.argmax(model.predict(np.reshape(state, [1, input_size])))\n",
    "            aRandomList.append(0)\n",
    "    \n",
    "        # Get new state, reward from environment\n",
    "        next_state, reward, done, _ = env.step(action)\n",
    "        if done:  # big panelty\n",
    "            reward = -100\n",
    "            \n",
    "        # Save the experience to our buffer\n",
    "        replay_buffer.append((state, action, reward, next_state, done))\n",
    "        if len(replay_buffer) > REPLAY_MEMORY:\n",
    "            replay_buffer.popleft()\n",
    "        \n",
    "        state = next_state\n",
    "        step_count += 1\n",
    "        if step_count > 10000:  # Good enough\n",
    "            break  # break ???\n",
    "        \n",
    "    if i % 10 == 1:\n",
    "        print(\"Episode : {} steps : {}\".format(i, step_count))\n",
    "    if step_count > 10000:\n",
    "        pass\n",
    "    \n",
    "    ###### Train every 10 episodes #####\n",
    "    if i % 10 == 1:  \n",
    "        # Get a random batch of experience\n",
    "        for _ in range(50):\n",
    "            # Minibatch works better\n",
    "            minibatch = random.sample(replay_buffer, 10)\n",
    "            simple_replay_train(model, input_size, output_size, minibatch)       \n",
    "           \n",
    "    rList.append(step_count)\n",
    "    # If last 10's avg step are 500, it's good enough\n",
    "    if len(rList) > 10 and np.mean(rList[-10:]) > 500:\n",
    "        print(\"Good enough stop.\")\n",
    "        break"
   ]
  },
  {
   "cell_type": "code",
   "execution_count": 28,
   "metadata": {},
   "outputs": [
    {
     "name": "stdout",
     "output_type": "stream",
     "text": [
      "Random greedy : 1 = random action, 0 = model predict\n",
      "Random cnt : 5027 (2.183023054842646 %), predict cnt : 225250 (97.81697694515735 %)\n"
     ]
    },
    {
     "data": {
      "image/png": "[encoded data removed]",
      "text/plain": [
       "<Figure size 864x72 with 1 Axes>"
      ]
     },
     "metadata": {
      "needs_background": "light"
     },
     "output_type": "display_data"
    }
   ],
   "source": [
    "print(\"Random greedy : 1 = random action, 0 = model predict\")\n",
    "r_cnt = len([x for x in aRandomList if x == 1])\n",
    "p_cnt = len([x for x in aRandomList if x == 0])\n",
    "total_cnt = r_cnt + p_cnt\n",
    "print(\"Random cnt : {} ({} %), predict cnt : {} ({} %)\".format(\n",
    "    r_cnt, \n",
    "    ((r_cnt / total_cnt) * 100.0), \n",
    "    p_cnt, \n",
    "    ((p_cnt / total_cnt) * 100.0)))\n",
    "import matplotlib.pyplot as plt\n",
    "plt.figure(figsize=(12, 1))\n",
    "plt.scatter(range(len(aRandomList)), aRandomList, color=\"blue\")\n",
    "plt.show()"
   ]
  },
  {
   "cell_type": "code",
   "execution_count": 29,
   "metadata": {
    "scrolled": true
   },
   "outputs": [
    {
     "name": "stdout",
     "output_type": "stream",
     "text": [
      "Step count of each episode\n"
     ]
    },
    {
     "data": {
      "image/png": "[encoded data removed]",
      "text/plain": [
       "<Figure size 864x288 with 1 Axes>"
      ]
     },
     "metadata": {
      "needs_background": "light"
     },
     "output_type": "display_data"
    }
   ],
   "source": [
    "print(\"Step count of each episode\")\n",
    "import matplotlib.pyplot as plt\n",
    "plt.figure(figsize=(12, 4))\n",
    "plt.plot(range(len(rList)), rList, color=\"blue\")\n",
    "plt.show()"
   ]
  },
  {
   "cell_type": "markdown",
   "metadata": {},
   "source": [
    "## Let's Play with trained model"
   ]
  },
  {
   "cell_type": "code",
   "execution_count": 30,
   "metadata": {
    "scrolled": true
   },
   "outputs": [
    {
     "name": "stdout",
     "output_type": "stream",
     "text": [
      "Total score : 194.0\n",
      "Total score : 200.0\n",
      "Total score : 200.0\n",
      "Total score : 200.0\n",
      "Total score : 200.0\n",
      "Total score : 200.0\n",
      "Total score : 200.0\n",
      "Total score : 200.0\n",
      "Total score : 200.0\n",
      "Total score : 182.0\n",
      "Total score : 200.0\n",
      "Total score : 200.0\n",
      "Total score : 200.0\n",
      "Total score : 200.0\n",
      "Total score : 200.0\n",
      "Total score : 182.0\n",
      "Total score : 200.0\n",
      "Total score : 196.0\n",
      "Total score : 200.0\n",
      "Total score : 200.0\n"
     ]
    }
   ],
   "source": [
    "rList1 = []\n",
    "for _ in range(20):\n",
    "    rList1.append(bot_play(model))\n",
    "env.close()"
   ]
  },
  {
   "cell_type": "code",
   "execution_count": 31,
   "metadata": {},
   "outputs": [
    {
     "name": "stdout",
     "output_type": "stream",
     "text": [
      "Step count of each episode\n"
     ]
    },
    {
     "data": {
      "image/png": "[encoded data removed]",
      "text/plain": [
       "<Figure size 864x288 with 1 Axes>"
      ]
     },
     "metadata": {
      "needs_background": "light"
     },
     "output_type": "display_data"
    }
   ],
   "source": [
    "print(\"Step count of each episode\")\n",
    "import matplotlib.pyplot as plt\n",
    "plt.figure(figsize=(12, 4))\n",
    "plt.bar(range(len(rList1)), rList1, color=\"red\")\n",
    "plt.show()"
   ]
  },
  {
   "cell_type": "code",
   "execution_count": null,
   "metadata": {},
   "outputs": [],
   "source": []
  },
  {
   "cell_type": "code",
   "execution_count": null,
   "metadata": {},
   "outputs": [],
   "source": []
  }
 ],
 "metadata": {
  "kernelspec": {
   "display_name": "Python 3",
   "language": "python",
   "name": "python3"
  },
  "language_info": {
   "codemirror_mode": {
    "name": "ipython",
    "version": 3
   },
   "file_extension": ".py",
   "mimetype": "text/x-python",
   "name": "python",
   "nbconvert_exporter": "python",
   "pygments_lexer": "ipython3",
   "version": "3.7.3"
  }
 },
 "nbformat": 4,
 "nbformat_minor": 2
}
